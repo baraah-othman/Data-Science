{
  "nbformat": 4,
  "nbformat_minor": 0,
  "metadata": {
    "kernelspec": {
      "display_name": "Python 3",
      "language": "python",
      "name": "python3"
    },
    "language_info": {
      "codemirror_mode": {
        "name": "ipython",
        "version": 3
      },
      "file_extension": ".py",
      "mimetype": "text/x-python",
      "name": "python",
      "nbconvert_exporter": "python",
      "pygments_lexer": "ipython3",
      "version": "3.7.0"
    },
    "colab": {
      "provenance": []
    }
  },
  "cells": [
    {
      "cell_type": "markdown",
      "metadata": {
        "id": "elgDcjlyK-lQ"
      },
      "source": [
        "#Data Science Lifecycle\n",
        "\n",
        "In this exercise, we will explore a dataset of Loan data with the below info. We will try later to predict the status of loan for individuals based the following information.</font>\n",
        "\n",
        "## DataSet Description\n",
        "\n",
        "- **Loan_ID:** data set unique ID <br>\n",
        "- **Gender:** individual gender<br>\n",
        "- **Married:** individual marital status<br>\n",
        "- **Dependents:** number of dependents<br>\n",
        "- **Education:** individual education status<br>\n",
        "- **Self_Employed:** individual employment status<br>\n",
        "- **ApplicantIncome:** individual income<br>\n",
        "- **CoapplicantIncome:** individual Coapplicant income<br>\n",
        "- **LoanAmount:** Loan amount in thousands<br>\n",
        "- **Loan_Amount_Term:** term of loan in months<br>\n",
        "- **Credit_History:** credit history meets guidelines<br>\n",
        "- **Property_Area:** Urban/ Semi Urban/ Rural<br>\n",
        "- **Loan_Status:** loan approved (Y/N)<br>"
      ]
    },
    {
      "cell_type": "code",
      "source": [
        "from google.colab import drive\n",
        "drive.mount('/content/drive')"
      ],
      "metadata": {
        "id": "w40v92asKEI2"
      },
      "execution_count": null,
      "outputs": []
    },
    {
      "cell_type": "markdown",
      "metadata": {
        "id": "KIFhQSUBK-lS"
      },
      "source": [
        "# 1. Import necessary python modules (libraries)\n"
      ]
    },
    {
      "cell_type": "code",
      "metadata": {
        "id": "xZwyPrVkK-lT"
      },
      "source": [
        "\n",
        "import numpy as np\n",
        "import pandas as pd\n",
        "import matplotlib.pyplot as plt\n",
        "import seaborn as sns\n",
        "from sklearn.preprocessing import LabelEncoder\n",
        "from sklearn.model_selection import train_test_split\n",
        "from sklearn.linear_model import LogisticRegression\n",
        "from sklearn.metrics import accuracy_score"
      ],
      "execution_count": null,
      "outputs": []
    },
    {
      "cell_type": "markdown",
      "metadata": {
        "id": "4xjXdDyTK-lW"
      },
      "source": [
        "# 2. Read & visualize data\n",
        "To load the data to our code, we use pandas module, more specifically, the read_csv function."
      ]
    },
    {
      "cell_type": "markdown",
      "metadata": {
        "id": "x4KVJodDK-lX"
      },
      "source": [
        "Combine the two dataset in order to apply the same preprocessing steps in both dataframes\n",
        "Don't forget to print the head of your dataset to get a better insight into it."
      ]
    },
    {
      "cell_type": "code",
      "metadata": {
        "id": "eaN-1eM5K-lX",
        "colab": {
          "base_uri": "https://localhost:8080/"
        },
        "outputId": "a620fec5-70cd-4622-fc0f-04d3f810a425"
      },
      "source": [
        "train_df = pd.read_csv('/content/sample_data/train.csv')\n",
        "test_df = pd.read_csv('/content/sample_data/test.csv')\n",
        "df = pd.concat([train_df, test_df], ignore_index=True)\n",
        "#check if combined from nb of entries\n",
        "print(df.info())\n",
        "#print head\n",
        "print(df.head())"
      ],
      "execution_count": null,
      "outputs": [
        {
          "output_type": "stream",
          "name": "stdout",
          "text": [
            "<class 'pandas.core.frame.DataFrame'>\n",
            "RangeIndex: 614 entries, 0 to 613\n",
            "Data columns (total 13 columns):\n",
            " #   Column             Non-Null Count  Dtype  \n",
            "---  ------             --------------  -----  \n",
            " 0   Loan_ID            614 non-null    object \n",
            " 1   Gender             601 non-null    object \n",
            " 2   Married            611 non-null    object \n",
            " 3   Dependents         599 non-null    object \n",
            " 4   Education          614 non-null    object \n",
            " 5   Self_Employed      582 non-null    object \n",
            " 6   ApplicantIncome    614 non-null    int64  \n",
            " 7   CoapplicantIncome  614 non-null    float64\n",
            " 8   LoanAmount         592 non-null    float64\n",
            " 9   Loan_Amount_Term   600 non-null    float64\n",
            " 10  Credit_History     564 non-null    float64\n",
            " 11  Property_Area      614 non-null    object \n",
            " 12  Loan_Status        614 non-null    object \n",
            "dtypes: float64(4), int64(1), object(8)\n",
            "memory usage: 62.5+ KB\n",
            "None\n",
            "    Loan_ID Gender Married Dependents     Education Self_Employed  \\\n",
            "0  LP001002   Male      No          0      Graduate            No   \n",
            "1  LP001003   Male     Yes          1      Graduate            No   \n",
            "2  LP001005   Male     Yes          0      Graduate           Yes   \n",
            "3  LP001006   Male     Yes          0  Not Graduate            No   \n",
            "4  LP001008   Male      No          0      Graduate            No   \n",
            "\n",
            "   ApplicantIncome  CoapplicantIncome  LoanAmount  Loan_Amount_Term  \\\n",
            "0             5849                0.0         NaN             360.0   \n",
            "1             4583             1508.0       128.0             360.0   \n",
            "2             3000                0.0        66.0             360.0   \n",
            "3             2583             2358.0       120.0             360.0   \n",
            "4             6000                0.0       141.0             360.0   \n",
            "\n",
            "   Credit_History Property_Area Loan_Status  \n",
            "0             1.0         Urban           Y  \n",
            "1             1.0         Rural           N  \n",
            "2             1.0         Urban           Y  \n",
            "3             1.0         Urban           Y  \n",
            "4             1.0         Urban           Y  \n"
          ]
        }
      ]
    },
    {
      "cell_type": "markdown",
      "metadata": {
        "id": "WKcAeoOVK-ld"
      },
      "source": [
        "# 3. Exploratory Data Analysis\n"
      ]
    },
    {
      "cell_type": "code",
      "metadata": {
        "id": "-DmXe7W2K-ld",
        "colab": {
          "base_uri": "https://localhost:8080/"
        },
        "outputId": "5470dd7d-902e-4351-8977-38e5c5c98e00"
      },
      "source": [
        "getting the number of rows and the number of columns that we have in our dataset\n",
        "df.shape"
      ],
      "execution_count": null,
      "outputs": [
        {
          "output_type": "execute_result",
          "data": {
            "text/plain": [
              "(614, 13)"
            ]
          },
          "metadata": {},
          "execution_count": 16
        }
      ]
    },
    {
      "cell_type": "markdown",
      "metadata": {
        "id": "RVH8LAjLK-lg"
      },
      "source": [
        "##### Use the function info(), to check:\n",
        "\n",
        "- data types (int, float, or object (e.g., string))\n",
        "- missing values\n",
        "- memory usage\n",
        "- number of rows and columns"
      ]
    },
    {
      "cell_type": "code",
      "metadata": {
        "id": "kesvYr2pK-lg",
        "colab": {
          "base_uri": "https://localhost:8080/"
        },
        "outputId": "26b519ba-8c99-44dc-fddd-012ac2bde1f6"
      },
      "source": [
        "\n",
        "df.info()"
      ],
      "execution_count": null,
      "outputs": [
        {
          "output_type": "stream",
          "name": "stdout",
          "text": [
            "<class 'pandas.core.frame.DataFrame'>\n",
            "RangeIndex: 614 entries, 0 to 613\n",
            "Data columns (total 13 columns):\n",
            " #   Column             Non-Null Count  Dtype  \n",
            "---  ------             --------------  -----  \n",
            " 0   Loan_ID            614 non-null    object \n",
            " 1   Gender             601 non-null    object \n",
            " 2   Married            611 non-null    object \n",
            " 3   Dependents         599 non-null    object \n",
            " 4   Education          614 non-null    object \n",
            " 5   Self_Employed      582 non-null    object \n",
            " 6   ApplicantIncome    614 non-null    int64  \n",
            " 7   CoapplicantIncome  614 non-null    float64\n",
            " 8   LoanAmount         592 non-null    float64\n",
            " 9   Loan_Amount_Term   600 non-null    float64\n",
            " 10  Credit_History     564 non-null    float64\n",
            " 11  Property_Area      614 non-null    object \n",
            " 12  Loan_Status        614 non-null    object \n",
            "dtypes: float64(4), int64(1), object(8)\n",
            "memory usage: 62.5+ KB\n"
          ]
        }
      ]
    },
    {
      "cell_type": "markdown",
      "metadata": {
        "id": "W4ebzltrK-lj"
      },
      "source": [
        "##### Use the function describe(), to check the following  values for each numerical feature (column)\n",
        "- mean\n",
        "- standard deviation\n",
        "- maximum\n",
        "- minimum\n"
      ]
    },
    {
      "cell_type": "code",
      "metadata": {
        "id": "ECiIV49DK-lk",
        "colab": {
          "base_uri": "https://localhost:8080/",
          "height": 300
        },
        "outputId": "3eb4c676-e1b7-4a7b-8188-93607d927889"
      },
      "source": [
        "\n",
        "df.describe()"
      ],
      "execution_count": null,
      "outputs": [
        {
          "output_type": "execute_result",
          "data": {
            "text/plain": [
              "       ApplicantIncome  CoapplicantIncome  LoanAmount  Loan_Amount_Term  \\\n",
              "count       614.000000         614.000000  592.000000         600.00000   \n",
              "mean       5403.459283        1621.245798  146.412162         342.00000   \n",
              "std        6109.041673        2926.248369   85.587325          65.12041   \n",
              "min         150.000000           0.000000    9.000000          12.00000   \n",
              "25%        2877.500000           0.000000  100.000000         360.00000   \n",
              "50%        3812.500000        1188.500000  128.000000         360.00000   \n",
              "75%        5795.000000        2297.250000  168.000000         360.00000   \n",
              "max       81000.000000       41667.000000  700.000000         480.00000   \n",
              "\n",
              "       Credit_History  \n",
              "count      564.000000  \n",
              "mean         0.842199  \n",
              "std          0.364878  \n",
              "min          0.000000  \n",
              "25%          1.000000  \n",
              "50%          1.000000  \n",
              "75%          1.000000  \n",
              "max          1.000000  "
            ],
            "text/html": [
              "\n",
              "  <div id=\"df-dafa92d3-e5db-473e-a5c8-45c4291ea97e\" class=\"colab-df-container\">\n",
              "    <div>\n",
              "<style scoped>\n",
              "    .dataframe tbody tr th:only-of-type {\n",
              "        vertical-align: middle;\n",
              "    }\n",
              "\n",
              "    .dataframe tbody tr th {\n",
              "        vertical-align: top;\n",
              "    }\n",
              "\n",
              "    .dataframe thead th {\n",
              "        text-align: right;\n",
              "    }\n",
              "</style>\n",
              "<table border=\"1\" class=\"dataframe\">\n",
              "  <thead>\n",
              "    <tr style=\"text-align: right;\">\n",
              "      <th></th>\n",
              "      <th>ApplicantIncome</th>\n",
              "      <th>CoapplicantIncome</th>\n",
              "      <th>LoanAmount</th>\n",
              "      <th>Loan_Amount_Term</th>\n",
              "      <th>Credit_History</th>\n",
              "    </tr>\n",
              "  </thead>\n",
              "  <tbody>\n",
              "    <tr>\n",
              "      <th>count</th>\n",
              "      <td>614.000000</td>\n",
              "      <td>614.000000</td>\n",
              "      <td>592.000000</td>\n",
              "      <td>600.00000</td>\n",
              "      <td>564.000000</td>\n",
              "    </tr>\n",
              "    <tr>\n",
              "      <th>mean</th>\n",
              "      <td>5403.459283</td>\n",
              "      <td>1621.245798</td>\n",
              "      <td>146.412162</td>\n",
              "      <td>342.00000</td>\n",
              "      <td>0.842199</td>\n",
              "    </tr>\n",
              "    <tr>\n",
              "      <th>std</th>\n",
              "      <td>6109.041673</td>\n",
              "      <td>2926.248369</td>\n",
              "      <td>85.587325</td>\n",
              "      <td>65.12041</td>\n",
              "      <td>0.364878</td>\n",
              "    </tr>\n",
              "    <tr>\n",
              "      <th>min</th>\n",
              "      <td>150.000000</td>\n",
              "      <td>0.000000</td>\n",
              "      <td>9.000000</td>\n",
              "      <td>12.00000</td>\n",
              "      <td>0.000000</td>\n",
              "    </tr>\n",
              "    <tr>\n",
              "      <th>25%</th>\n",
              "      <td>2877.500000</td>\n",
              "      <td>0.000000</td>\n",
              "      <td>100.000000</td>\n",
              "      <td>360.00000</td>\n",
              "      <td>1.000000</td>\n",
              "    </tr>\n",
              "    <tr>\n",
              "      <th>50%</th>\n",
              "      <td>3812.500000</td>\n",
              "      <td>1188.500000</td>\n",
              "      <td>128.000000</td>\n",
              "      <td>360.00000</td>\n",
              "      <td>1.000000</td>\n",
              "    </tr>\n",
              "    <tr>\n",
              "      <th>75%</th>\n",
              "      <td>5795.000000</td>\n",
              "      <td>2297.250000</td>\n",
              "      <td>168.000000</td>\n",
              "      <td>360.00000</td>\n",
              "      <td>1.000000</td>\n",
              "    </tr>\n",
              "    <tr>\n",
              "      <th>max</th>\n",
              "      <td>81000.000000</td>\n",
              "      <td>41667.000000</td>\n",
              "      <td>700.000000</td>\n",
              "      <td>480.00000</td>\n",
              "      <td>1.000000</td>\n",
              "    </tr>\n",
              "  </tbody>\n",
              "</table>\n",
              "</div>\n",
              "    <div class=\"colab-df-buttons\">\n",
              "\n",
              "  <div class=\"colab-df-container\">\n",
              "    <button class=\"colab-df-convert\" onclick=\"convertToInteractive('df-dafa92d3-e5db-473e-a5c8-45c4291ea97e')\"\n",
              "            title=\"Convert this dataframe to an interactive table.\"\n",
              "            style=\"display:none;\">\n",
              "\n",
              "  <svg xmlns=\"http://www.w3.org/2000/svg\" height=\"24px\" viewBox=\"0 -960 960 960\">\n",
              "    <path d=\"M120-120v-720h720v720H120Zm60-500h600v-160H180v160Zm220 220h160v-160H400v160Zm0 220h160v-160H400v160ZM180-400h160v-160H180v160Zm440 0h160v-160H620v160ZM180-180h160v-160H180v160Zm440 0h160v-160H620v160Z\"/>\n",
              "  </svg>\n",
              "    </button>\n",
              "\n",
              "  <style>\n",
              "    .colab-df-container {\n",
              "      display:flex;\n",
              "      gap: 12px;\n",
              "    }\n",
              "\n",
              "    .colab-df-convert {\n",
              "      background-color: #E8F0FE;\n",
              "      border: none;\n",
              "      border-radius: 50%;\n",
              "      cursor: pointer;\n",
              "      display: none;\n",
              "      fill: #1967D2;\n",
              "      height: 32px;\n",
              "      padding: 0 0 0 0;\n",
              "      width: 32px;\n",
              "    }\n",
              "\n",
              "    .colab-df-convert:hover {\n",
              "      background-color: #E2EBFA;\n",
              "      box-shadow: 0px 1px 2px rgba(60, 64, 67, 0.3), 0px 1px 3px 1px rgba(60, 64, 67, 0.15);\n",
              "      fill: #174EA6;\n",
              "    }\n",
              "\n",
              "    .colab-df-buttons div {\n",
              "      margin-bottom: 4px;\n",
              "    }\n",
              "\n",
              "    [theme=dark] .colab-df-convert {\n",
              "      background-color: #3B4455;\n",
              "      fill: #D2E3FC;\n",
              "    }\n",
              "\n",
              "    [theme=dark] .colab-df-convert:hover {\n",
              "      background-color: #434B5C;\n",
              "      box-shadow: 0px 1px 3px 1px rgba(0, 0, 0, 0.15);\n",
              "      filter: drop-shadow(0px 1px 2px rgba(0, 0, 0, 0.3));\n",
              "      fill: #FFFFFF;\n",
              "    }\n",
              "  </style>\n",
              "\n",
              "    <script>\n",
              "      const buttonEl =\n",
              "        document.querySelector('#df-dafa92d3-e5db-473e-a5c8-45c4291ea97e button.colab-df-convert');\n",
              "      buttonEl.style.display =\n",
              "        google.colab.kernel.accessAllowed ? 'block' : 'none';\n",
              "\n",
              "      async function convertToInteractive(key) {\n",
              "        const element = document.querySelector('#df-dafa92d3-e5db-473e-a5c8-45c4291ea97e');\n",
              "        const dataTable =\n",
              "          await google.colab.kernel.invokeFunction('convertToInteractive',\n",
              "                                                    [key], {});\n",
              "        if (!dataTable) return;\n",
              "\n",
              "        const docLinkHtml = 'Like what you see? Visit the ' +\n",
              "          '<a target=\"_blank\" href=https://colab.research.google.com/notebooks/data_table.ipynb>data table notebook</a>'\n",
              "          + ' to learn more about interactive tables.';\n",
              "        element.innerHTML = '';\n",
              "        dataTable['output_type'] = 'display_data';\n",
              "        await google.colab.output.renderOutput(dataTable, element);\n",
              "        const docLink = document.createElement('div');\n",
              "        docLink.innerHTML = docLinkHtml;\n",
              "        element.appendChild(docLink);\n",
              "      }\n",
              "    </script>\n",
              "  </div>\n",
              "\n",
              "\n",
              "<div id=\"df-c3144776-bcd9-43d7-80cb-b319bd6f29af\">\n",
              "  <button class=\"colab-df-quickchart\" onclick=\"quickchart('df-c3144776-bcd9-43d7-80cb-b319bd6f29af')\"\n",
              "            title=\"Suggest charts.\"\n",
              "            style=\"display:none;\">\n",
              "\n",
              "<svg xmlns=\"http://www.w3.org/2000/svg\" height=\"24px\"viewBox=\"0 0 24 24\"\n",
              "     width=\"24px\">\n",
              "    <g>\n",
              "        <path d=\"M19 3H5c-1.1 0-2 .9-2 2v14c0 1.1.9 2 2 2h14c1.1 0 2-.9 2-2V5c0-1.1-.9-2-2-2zM9 17H7v-7h2v7zm4 0h-2V7h2v10zm4 0h-2v-4h2v4z\"/>\n",
              "    </g>\n",
              "</svg>\n",
              "  </button>\n",
              "\n",
              "<style>\n",
              "  .colab-df-quickchart {\n",
              "    background-color: #E8F0FE;\n",
              "    border: none;\n",
              "    border-radius: 50%;\n",
              "    cursor: pointer;\n",
              "    display: none;\n",
              "    fill: #1967D2;\n",
              "    height: 32px;\n",
              "    padding: 0 0 0 0;\n",
              "    width: 32px;\n",
              "  }\n",
              "\n",
              "  .colab-df-quickchart:hover {\n",
              "    background-color: #E2EBFA;\n",
              "    box-shadow: 0px 1px 2px rgba(60, 64, 67, 0.3), 0px 1px 3px 1px rgba(60, 64, 67, 0.15);\n",
              "    fill: #174EA6;\n",
              "  }\n",
              "\n",
              "  [theme=dark] .colab-df-quickchart {\n",
              "    background-color: #3B4455;\n",
              "    fill: #D2E3FC;\n",
              "  }\n",
              "\n",
              "  [theme=dark] .colab-df-quickchart:hover {\n",
              "    background-color: #434B5C;\n",
              "    box-shadow: 0px 1px 3px 1px rgba(0, 0, 0, 0.15);\n",
              "    filter: drop-shadow(0px 1px 2px rgba(0, 0, 0, 0.3));\n",
              "    fill: #FFFFFF;\n",
              "  }\n",
              "</style>\n",
              "\n",
              "  <script>\n",
              "    async function quickchart(key) {\n",
              "      const charts = await google.colab.kernel.invokeFunction(\n",
              "          'suggestCharts', [key], {});\n",
              "    }\n",
              "    (() => {\n",
              "      let quickchartButtonEl =\n",
              "        document.querySelector('#df-c3144776-bcd9-43d7-80cb-b319bd6f29af button');\n",
              "      quickchartButtonEl.style.display =\n",
              "        google.colab.kernel.accessAllowed ? 'block' : 'none';\n",
              "    })();\n",
              "  </script>\n",
              "</div>\n",
              "    </div>\n",
              "  </div>\n"
            ]
          },
          "metadata": {},
          "execution_count": 18
        }
      ]
    },
    {
      "cell_type": "markdown",
      "metadata": {
        "id": "QsmkavZQK-ln"
      },
      "source": [
        "Print the unique values of the variable Credit_History"
      ]
    },
    {
      "cell_type": "code",
      "metadata": {
        "id": "uYPOBUMYK-ln",
        "colab": {
          "base_uri": "https://localhost:8080/"
        },
        "outputId": "af47f53c-cd58-4904-aaed-60a6ca0b1137"
      },
      "source": [
        "\n",
        "print(df['Credit_History'].unique())"
      ],
      "execution_count": null,
      "outputs": [
        {
          "output_type": "stream",
          "name": "stdout",
          "text": [
            "[ 1.  0. nan]\n"
          ]
        }
      ]
    },
    {
      "cell_type": "markdown",
      "metadata": {
        "id": "bOBFeq9EK-lq"
      },
      "source": [
        "Do the same with the variable Loan_Amount_Term"
      ]
    },
    {
      "cell_type": "code",
      "metadata": {
        "id": "mdUjK1DPK-lq",
        "colab": {
          "base_uri": "https://localhost:8080/"
        },
        "outputId": "6cb49f5a-672f-4e7f-ead0-9a9325bca6d4"
      },
      "source": [
        "\n",
        "print(df['Loan_Amount_Term'].unique())"
      ],
      "execution_count": null,
      "outputs": [
        {
          "output_type": "stream",
          "name": "stdout",
          "text": [
            "[360. 120. 240.  nan 180.  60. 300. 480.  36.  84.  12.]\n"
          ]
        }
      ]
    },
    {
      "cell_type": "markdown",
      "metadata": {
        "id": "-o9MT0LcK-ls"
      },
      "source": [
        "##### Use the function describe(include='o'), to check the following  values for each categorical feature:\n",
        "* count\n",
        "* unique\n",
        "* top\n",
        "* freq\n"
      ]
    },
    {
      "cell_type": "code",
      "metadata": {
        "id": "jrSrdNS1K-lt",
        "colab": {
          "base_uri": "https://localhost:8080/",
          "height": 175
        },
        "outputId": "d1dcf8e2-637a-4a10-c41c-9204e5220682"
      },
      "source": [
        "\n",
        "df.describe(include='O')"
      ],
      "execution_count": null,
      "outputs": [
        {
          "output_type": "execute_result",
          "data": {
            "text/plain": [
              "         Loan_ID Gender Married Dependents Education Self_Employed  \\\n",
              "count        614    601     611        599       614           582   \n",
              "unique       614      2       2          4         2             2   \n",
              "top     LP001002   Male     Yes          0  Graduate            No   \n",
              "freq           1    489     398        345       480           500   \n",
              "\n",
              "       Property_Area Loan_Status  \n",
              "count            614         614  \n",
              "unique             3           2  \n",
              "top        Semiurban           Y  \n",
              "freq             233         422  "
            ],
            "text/html": [
              "\n",
              "  <div id=\"df-b683fefb-45f0-4ee9-a285-5f408ddcb614\" class=\"colab-df-container\">\n",
              "    <div>\n",
              "<style scoped>\n",
              "    .dataframe tbody tr th:only-of-type {\n",
              "        vertical-align: middle;\n",
              "    }\n",
              "\n",
              "    .dataframe tbody tr th {\n",
              "        vertical-align: top;\n",
              "    }\n",
              "\n",
              "    .dataframe thead th {\n",
              "        text-align: right;\n",
              "    }\n",
              "</style>\n",
              "<table border=\"1\" class=\"dataframe\">\n",
              "  <thead>\n",
              "    <tr style=\"text-align: right;\">\n",
              "      <th></th>\n",
              "      <th>Loan_ID</th>\n",
              "      <th>Gender</th>\n",
              "      <th>Married</th>\n",
              "      <th>Dependents</th>\n",
              "      <th>Education</th>\n",
              "      <th>Self_Employed</th>\n",
              "      <th>Property_Area</th>\n",
              "      <th>Loan_Status</th>\n",
              "    </tr>\n",
              "  </thead>\n",
              "  <tbody>\n",
              "    <tr>\n",
              "      <th>count</th>\n",
              "      <td>614</td>\n",
              "      <td>601</td>\n",
              "      <td>611</td>\n",
              "      <td>599</td>\n",
              "      <td>614</td>\n",
              "      <td>582</td>\n",
              "      <td>614</td>\n",
              "      <td>614</td>\n",
              "    </tr>\n",
              "    <tr>\n",
              "      <th>unique</th>\n",
              "      <td>614</td>\n",
              "      <td>2</td>\n",
              "      <td>2</td>\n",
              "      <td>4</td>\n",
              "      <td>2</td>\n",
              "      <td>2</td>\n",
              "      <td>3</td>\n",
              "      <td>2</td>\n",
              "    </tr>\n",
              "    <tr>\n",
              "      <th>top</th>\n",
              "      <td>LP001002</td>\n",
              "      <td>Male</td>\n",
              "      <td>Yes</td>\n",
              "      <td>0</td>\n",
              "      <td>Graduate</td>\n",
              "      <td>No</td>\n",
              "      <td>Semiurban</td>\n",
              "      <td>Y</td>\n",
              "    </tr>\n",
              "    <tr>\n",
              "      <th>freq</th>\n",
              "      <td>1</td>\n",
              "      <td>489</td>\n",
              "      <td>398</td>\n",
              "      <td>345</td>\n",
              "      <td>480</td>\n",
              "      <td>500</td>\n",
              "      <td>233</td>\n",
              "      <td>422</td>\n",
              "    </tr>\n",
              "  </tbody>\n",
              "</table>\n",
              "</div>\n",
              "    <div class=\"colab-df-buttons\">\n",
              "\n",
              "  <div class=\"colab-df-container\">\n",
              "    <button class=\"colab-df-convert\" onclick=\"convertToInteractive('df-b683fefb-45f0-4ee9-a285-5f408ddcb614')\"\n",
              "            title=\"Convert this dataframe to an interactive table.\"\n",
              "            style=\"display:none;\">\n",
              "\n",
              "  <svg xmlns=\"http://www.w3.org/2000/svg\" height=\"24px\" viewBox=\"0 -960 960 960\">\n",
              "    <path d=\"M120-120v-720h720v720H120Zm60-500h600v-160H180v160Zm220 220h160v-160H400v160Zm0 220h160v-160H400v160ZM180-400h160v-160H180v160Zm440 0h160v-160H620v160ZM180-180h160v-160H180v160Zm440 0h160v-160H620v160Z\"/>\n",
              "  </svg>\n",
              "    </button>\n",
              "\n",
              "  <style>\n",
              "    .colab-df-container {\n",
              "      display:flex;\n",
              "      gap: 12px;\n",
              "    }\n",
              "\n",
              "    .colab-df-convert {\n",
              "      background-color: #E8F0FE;\n",
              "      border: none;\n",
              "      border-radius: 50%;\n",
              "      cursor: pointer;\n",
              "      display: none;\n",
              "      fill: #1967D2;\n",
              "      height: 32px;\n",
              "      padding: 0 0 0 0;\n",
              "      width: 32px;\n",
              "    }\n",
              "\n",
              "    .colab-df-convert:hover {\n",
              "      background-color: #E2EBFA;\n",
              "      box-shadow: 0px 1px 2px rgba(60, 64, 67, 0.3), 0px 1px 3px 1px rgba(60, 64, 67, 0.15);\n",
              "      fill: #174EA6;\n",
              "    }\n",
              "\n",
              "    .colab-df-buttons div {\n",
              "      margin-bottom: 4px;\n",
              "    }\n",
              "\n",
              "    [theme=dark] .colab-df-convert {\n",
              "      background-color: #3B4455;\n",
              "      fill: #D2E3FC;\n",
              "    }\n",
              "\n",
              "    [theme=dark] .colab-df-convert:hover {\n",
              "      background-color: #434B5C;\n",
              "      box-shadow: 0px 1px 3px 1px rgba(0, 0, 0, 0.15);\n",
              "      filter: drop-shadow(0px 1px 2px rgba(0, 0, 0, 0.3));\n",
              "      fill: #FFFFFF;\n",
              "    }\n",
              "  </style>\n",
              "\n",
              "    <script>\n",
              "      const buttonEl =\n",
              "        document.querySelector('#df-b683fefb-45f0-4ee9-a285-5f408ddcb614 button.colab-df-convert');\n",
              "      buttonEl.style.display =\n",
              "        google.colab.kernel.accessAllowed ? 'block' : 'none';\n",
              "\n",
              "      async function convertToInteractive(key) {\n",
              "        const element = document.querySelector('#df-b683fefb-45f0-4ee9-a285-5f408ddcb614');\n",
              "        const dataTable =\n",
              "          await google.colab.kernel.invokeFunction('convertToInteractive',\n",
              "                                                    [key], {});\n",
              "        if (!dataTable) return;\n",
              "\n",
              "        const docLinkHtml = 'Like what you see? Visit the ' +\n",
              "          '<a target=\"_blank\" href=https://colab.research.google.com/notebooks/data_table.ipynb>data table notebook</a>'\n",
              "          + ' to learn more about interactive tables.';\n",
              "        element.innerHTML = '';\n",
              "        dataTable['output_type'] = 'display_data';\n",
              "        await google.colab.output.renderOutput(dataTable, element);\n",
              "        const docLink = document.createElement('div');\n",
              "        docLink.innerHTML = docLinkHtml;\n",
              "        element.appendChild(docLink);\n",
              "      }\n",
              "    </script>\n",
              "  </div>\n",
              "\n",
              "\n",
              "<div id=\"df-89fe2474-a054-4402-a87b-e8d72d6dacec\">\n",
              "  <button class=\"colab-df-quickchart\" onclick=\"quickchart('df-89fe2474-a054-4402-a87b-e8d72d6dacec')\"\n",
              "            title=\"Suggest charts.\"\n",
              "            style=\"display:none;\">\n",
              "\n",
              "<svg xmlns=\"http://www.w3.org/2000/svg\" height=\"24px\"viewBox=\"0 0 24 24\"\n",
              "     width=\"24px\">\n",
              "    <g>\n",
              "        <path d=\"M19 3H5c-1.1 0-2 .9-2 2v14c0 1.1.9 2 2 2h14c1.1 0 2-.9 2-2V5c0-1.1-.9-2-2-2zM9 17H7v-7h2v7zm4 0h-2V7h2v10zm4 0h-2v-4h2v4z\"/>\n",
              "    </g>\n",
              "</svg>\n",
              "  </button>\n",
              "\n",
              "<style>\n",
              "  .colab-df-quickchart {\n",
              "    background-color: #E8F0FE;\n",
              "    border: none;\n",
              "    border-radius: 50%;\n",
              "    cursor: pointer;\n",
              "    display: none;\n",
              "    fill: #1967D2;\n",
              "    height: 32px;\n",
              "    padding: 0 0 0 0;\n",
              "    width: 32px;\n",
              "  }\n",
              "\n",
              "  .colab-df-quickchart:hover {\n",
              "    background-color: #E2EBFA;\n",
              "    box-shadow: 0px 1px 2px rgba(60, 64, 67, 0.3), 0px 1px 3px 1px rgba(60, 64, 67, 0.15);\n",
              "    fill: #174EA6;\n",
              "  }\n",
              "\n",
              "  [theme=dark] .colab-df-quickchart {\n",
              "    background-color: #3B4455;\n",
              "    fill: #D2E3FC;\n",
              "  }\n",
              "\n",
              "  [theme=dark] .colab-df-quickchart:hover {\n",
              "    background-color: #434B5C;\n",
              "    box-shadow: 0px 1px 3px 1px rgba(0, 0, 0, 0.15);\n",
              "    filter: drop-shadow(0px 1px 2px rgba(0, 0, 0, 0.3));\n",
              "    fill: #FFFFFF;\n",
              "  }\n",
              "</style>\n",
              "\n",
              "  <script>\n",
              "    async function quickchart(key) {\n",
              "      const charts = await google.colab.kernel.invokeFunction(\n",
              "          'suggestCharts', [key], {});\n",
              "    }\n",
              "    (() => {\n",
              "      let quickchartButtonEl =\n",
              "        document.querySelector('#df-89fe2474-a054-4402-a87b-e8d72d6dacec button');\n",
              "      quickchartButtonEl.style.display =\n",
              "        google.colab.kernel.accessAllowed ? 'block' : 'none';\n",
              "    })();\n",
              "  </script>\n",
              "</div>\n",
              "    </div>\n",
              "  </div>\n"
            ]
          },
          "metadata": {},
          "execution_count": 27
        }
      ]
    },
    {
      "cell_type": "markdown",
      "metadata": {
        "id": "qabfYYPoK-ly"
      },
      "source": [
        "Compute the frequency for each unique value in the categorical feature specified in the code cells below"
      ]
    },
    {
      "cell_type": "code",
      "metadata": {
        "id": "V9Fe95bPK-ly",
        "colab": {
          "base_uri": "https://localhost:8080/"
        },
        "outputId": "3d6578b3-a171-420d-c0df-37e831a76397"
      },
      "source": [
        "\n",
        "#Property_Area\n",
        "print(df['Property_Area'].value_counts())"
      ],
      "execution_count": null,
      "outputs": [
        {
          "output_type": "stream",
          "name": "stdout",
          "text": [
            "Semiurban    233\n",
            "Urban        202\n",
            "Rural        179\n",
            "Name: Property_Area, dtype: int64\n"
          ]
        }
      ]
    },
    {
      "cell_type": "code",
      "metadata": {
        "id": "lysRWAMyK-l1",
        "colab": {
          "base_uri": "https://localhost:8080/"
        },
        "outputId": "83873bd5-995e-48aa-f472-1ccbd2ec9dc5"
      },
      "source": [
        "\n",
        "#Dependents\n",
        "print(df['Dependents'].value_counts())"
      ],
      "execution_count": null,
      "outputs": [
        {
          "output_type": "stream",
          "name": "stdout",
          "text": [
            "0     345\n",
            "1     102\n",
            "2     101\n",
            "3+     51\n",
            "Name: Dependents, dtype: int64\n"
          ]
        }
      ]
    },
    {
      "cell_type": "markdown",
      "metadata": {
        "id": "f1agjKAXK-l4"
      },
      "source": [
        "Create a new dataframe removeNA_df, where we remove the nulls existing in the original dataframe. This is only for being able to visualize distributions. In a later step, we will be focusing on cleaning our original dataset in a better way"
      ]
    },
    {
      "cell_type": "code",
      "metadata": {
        "id": "BvkUss-UwX4z",
        "colab": {
          "base_uri": "https://localhost:8080/"
        },
        "outputId": "fcaebe03-8dfb-4097-8947-cc5f47cd6ea4"
      },
      "source": [
        "\n",
        "removeNA_df=df.dropna()\n",
        "removeNA_df.shape\n"
      ],
      "execution_count": null,
      "outputs": [
        {
          "output_type": "stream",
          "name": "stdout",
          "text": [
            "[1. 0.]\n"
          ]
        }
      ]
    },
    {
      "cell_type": "markdown",
      "metadata": {
        "id": "TX-sjaDBwZhp"
      },
      "source": [
        "Plot the distribution and the boxplot for the variable 'LoanAmount'"
      ]
    },
    {
      "cell_type": "code",
      "metadata": {
        "id": "3GLVciuCK-l4",
        "colab": {
          "base_uri": "https://localhost:8080/",
          "height": 469
        },
        "outputId": "1c76f386-08e7-4dd3-d5f3-83799d849ae9"
      },
      "source": [
        "\n",
        "plt.boxplot(removeNA_df['LoanAmount'])\n",
        "plt.ylabel('Loan Amount')\n",
        "plt.title('Loan Amount Box plot')\n"
      ],
      "execution_count": null,
      "outputs": [
        {
          "output_type": "stream",
          "name": "stdout",
          "text": [
            "Skewness: 2.3614368477871213\n"
          ]
        },
        {
          "output_type": "display_data",
          "data": {
            "text/plain": [
              "<Figure size 640x480 with 1 Axes>"
            ],
            "image/png": "[encoded data removed]"
          },
          "metadata": {}
        }
      ]
    },
    {
      "cell_type": "markdown",
      "metadata": {
        "id": "-2F32oVYxAnC"
      },
      "source": [
        "Do the same for the variable 'ApplicantIncome'"
      ]
    },
    {
      "cell_type": "code",
      "metadata": {
        "id": "KeyynE7mK-l7",
        "colab": {
          "base_uri": "https://localhost:8080/",
          "height": 469
        },
        "outputId": "dcc2dded-86c8-4393-87a2-9495cc507fe8"
      },
      "source": [
        "\n",
        "plt.boxplot(removeNA_df['ApplicantIncome'])\n",
        "plt.ylabel('Applicant Income')\n",
        "plt.title('Applicant Income Box plot')"
      ],
      "execution_count": null,
      "outputs": [
        {
          "output_type": "execute_result",
          "data": {
            "text/plain": [
              "Text(0.5, 1.0, 'Applicant Income Box plot')"
            ]
          },
          "metadata": {},
          "execution_count": 39
        },
        {
          "output_type": "display_data",
          "data": {
            "text/plain": [
              "<Figure size 640x480 with 1 Axes>"
            ],
            "image/png": "[encoded data removed]"
          },
          "metadata": {}
        }
      ]
    },
    {
      "cell_type": "markdown",
      "metadata": {
        "id": "wvNkM1lwxVuw"
      },
      "source": [
        "Do the same for 'CoapplicantIncome'"
      ]
    },
    {
      "cell_type": "code",
      "metadata": {
        "id": "V1hX-EtOK-l-",
        "colab": {
          "base_uri": "https://localhost:8080/",
          "height": 469
        },
        "outputId": "dfa088dc-506f-4d9d-823e-6cec4679104b"
      },
      "source": [
        "\n",
        "plt.boxplot(removeNA_df['CoapplicantIncome'])\n",
        "plt.ylabel('Coapplicant Income')\n",
        "plt.title('Coapplicant Income Box plot')"
      ],
      "execution_count": null,
      "outputs": [
        {
          "output_type": "execute_result",
          "data": {
            "text/plain": [
              "Text(0.5, 1.0, 'Coapplicant Income Box plot')"
            ]
          },
          "metadata": {},
          "execution_count": 40
        },
        {
          "output_type": "display_data",
          "data": {
            "text/plain": [
              "<Figure size 640x480 with 1 Axes>"
            ],
            "image/png": "[encoded data removed]"
          },
          "metadata": {}
        }
      ]
    },
    {
      "cell_type": "code",
      "metadata": {
        "id": "ryBLLpCQK-mA",
        "colab": {
          "base_uri": "https://localhost:8080/",
          "height": 469
        },
        "outputId": "6fdec1de-c45b-4125-fd9c-b2082d28fe37"
      },
      "source": [
        "\n",
        "plt.boxplot(removeNA_df['Loan_Amount_Term'])\n",
        "plt.ylabel('Loan Amount Term')\n",
        "plt.title('Loan Amount Term Box plot')"
      ],
      "execution_count": null,
      "outputs": [
        {
          "output_type": "execute_result",
          "data": {
            "text/plain": [
              "Text(0.5, 1.0, 'Loan Amount Term Box plot')"
            ]
          },
          "metadata": {},
          "execution_count": 41
        },
        {
          "output_type": "display_data",
          "data": {
            "text/plain": [
              "<Figure size 640x480 with 1 Axes>"
            ],
            "image/png": "[encoded data removed]"
          },
          "metadata": {}
        }
      ]
    },
    {
      "cell_type": "markdown",
      "metadata": {
        "id": "C_L_FuNUyBwK"
      },
      "source": [
        "Plot the value_counts for 'Loan_Amount_term'"
      ]
    },
    {
      "cell_type": "code",
      "metadata": {
        "id": "UGmNxb_DK-mD",
        "colab": {
          "base_uri": "https://localhost:8080/",
          "height": 489
        },
        "outputId": "cc254f66-329b-4fff-acd4-aeb8313737c4"
      },
      "source": [
        "\n",
        "plt.subplot(1, 2, 2)\n",
        "plt.hist(removeNA_df['Loan_Amount_Term'],10)\n",
        "plt.xlabel('Loan Amount Term')\n",
        "plt.ylabel('Count')\n",
        "plt.title('Histogram of Loan Amount Term')"
      ],
      "execution_count": null,
      "outputs": [
        {
          "output_type": "execute_result",
          "data": {
            "text/plain": [
              "Text(0.5, 1.0, 'Histogram of Loan Amount Term')"
            ]
          },
          "metadata": {},
          "execution_count": 50
        },
        {
          "output_type": "display_data",
          "data": {
            "text/plain": [
              "<Figure size 640x480 with 1 Axes>"
            ],
            "image/png": "[encoded data removed]"
          },
          "metadata": {}
        }
      ]
    },
    {
      "cell_type": "markdown",
      "metadata": {
        "id": "HAdIBde9yTmY"
      },
      "source": [
        "Do the same for the categorical variables you have ('Dependants', 'Education', etc), using a subplot of size 4 by 2"
      ]
    },
    {
      "cell_type": "code",
      "metadata": {
        "id": "-wfu8LlNK-mG",
        "colab": {
          "base_uri": "https://localhost:8080/",
          "height": 983
        },
        "outputId": "ed46c739-602f-490f-b8b0-e753b41d934d"
      },
      "source": [
        "\n",
        "plt.figure(figsize=(12, 16))\n",
        "\n",
        "categorical_vars = ['Dependents', 'Education', 'Self_Employed', 'Credit_History', 'Property_Area']\n",
        "\n",
        "for i, var in enumerate(categorical_vars, 1):\n",
        "    plt.subplot(4, 2, i)\n",
        "    sns.countplot(data=removeNA_df, x=var)\n",
        "    plt.xlabel(var)\n",
        "    plt.ylabel('Count')\n",
        "    plt.title(f'Value Counts of {var}')\n",
        "    plt.xticks(rotation=45)\n",
        "\n",
        "# Adjust spacing between subplots\n",
        "plt.subplots_adjust(hspace=0.5)\n",
        "\n"
      ],
      "execution_count": null,
      "outputs": [
        {
          "output_type": "display_data",
          "data": {
            "text/plain": [
              "<Figure size 1200x1600 with 5 Axes>"
            ],
            "image/png": "[encoded data removed]"
          },
          "metadata": {}
        }
      ]
    },
    {
      "cell_type": "markdown",
      "metadata": {
        "id": "c9pcdqP-0GB5"
      },
      "source": [
        "Perform CrossTabing between Gender and Loan_Status, and then plot the acceptance/rejection of loans for different Genders"
      ]
    },
    {
      "cell_type": "code",
      "metadata": {
        "id": "vKEkDE5bK-mI",
        "colab": {
          "base_uri": "https://localhost:8080/",
          "height": 619
        },
        "outputId": "842e9a22-a87a-4593-b790-93485787038d"
      },
      "source": [
        "\n",
        "crosstab_result = pd.crosstab(removeNA_df['Gender'], removeNA_df['Loan_Status'],margins=True)\n",
        "print(crosstab_result)\n",
        "\n",
        "crosstab_result = crosstab_result.drop(index='All', columns='All')\n",
        "crosstab_result.plot(kind='bar')\n",
        "\n",
        "# Setting labels and title\n",
        "plt.title('Loan Acceptance/Rejection for Different Genders')\n",
        "plt.xlabel('Gender')\n",
        "plt.ylabel('Count')\n",
        "plt.legend(title='Loan Status', labels=['Rejected', 'Accepted'])\n",
        "\n"
      ],
      "execution_count": null,
      "outputs": [
        {
          "output_type": "stream",
          "name": "stdout",
          "text": [
            "Loan_Status    N    Y  All\n",
            "Gender                    \n",
            "Female        32   54   86\n",
            "Male         116  278  394\n",
            "All          148  332  480\n"
          ]
        },
        {
          "output_type": "execute_result",
          "data": {
            "text/plain": [
              "<matplotlib.legend.Legend at 0x7c97ef11c040>"
            ]
          },
          "metadata": {},
          "execution_count": 48
        },
        {
          "output_type": "display_data",
          "data": {
            "text/plain": [
              "<Figure size 640x480 with 1 Axes>"
            ],
            "image/png": "[encoded data removed]"
          },
          "metadata": {}
        }
      ]
    },
    {
      "cell_type": "markdown",
      "metadata": {
        "id": "RE7UIh5_0T83"
      },
      "source": [
        "Does the Gender affect the acceptance of the Loan?"
      ]
    },
    {
      "cell_type": "markdown",
      "metadata": {
        "id": "msFlsQonHgrn"
      },
      "source": [
        "**The probability of a female to be accepted is  lower than the male**\n",
        "\n",
        "**P(FEMALE & Yes)= 54/86=0.63**\n",
        "\n",
        "**P(Male & yes)=332/480=0.7**"
      ]
    },
    {
      "cell_type": "markdown",
      "metadata": {
        "id": "lQH8mJ2G0jIv"
      },
      "source": [
        "Do the same with Credit_history and Loan_Status"
      ]
    },
    {
      "cell_type": "code",
      "metadata": {
        "id": "P_GMY0r_K-mK",
        "colab": {
          "base_uri": "https://localhost:8080/",
          "height": 591
        },
        "outputId": "f16c337d-5406-4ef8-ff12-dd574c753174"
      },
      "source": [
        "\n",
        "crosstab_result = pd.crosstab(removeNA_df['Credit_History'], removeNA_df['Loan_Status'],margins=True)\n",
        "print(crosstab_result)\n",
        "# Plotting bars for each credit history\n",
        "crosstab_result = crosstab_result.drop(index='All', columns='All')\n",
        "crosstab_result.plot(kind='bar')\n",
        "\n",
        "# Setting labels and title\n",
        "plt.title('Loan Acceptance/Rejection for Different Credit History')\n",
        "plt.xlabel('Credit History')\n",
        "plt.ylabel('Count')\n",
        "plt.legend(title='Loan Status', labels=['Rejected', 'Accepted'])\n",
        "\n",
        "\n"
      ],
      "execution_count": null,
      "outputs": [
        {
          "output_type": "stream",
          "name": "stdout",
          "text": [
            "Loan_Status       N    Y  All\n",
            "Credit_History               \n",
            "0.0              63    7   70\n",
            "1.0              85  325  410\n",
            "All             148  332  480\n"
          ]
        },
        {
          "output_type": "execute_result",
          "data": {
            "text/plain": [
              "<matplotlib.legend.Legend at 0x7c97ef5529e0>"
            ]
          },
          "metadata": {},
          "execution_count": 41
        },
        {
          "output_type": "display_data",
          "data": {
            "text/plain": [
              "<Figure size 640x480 with 1 Axes>"
            ],
            "image/png": "[encoded data removed]"
          },
          "metadata": {}
        }
      ]
    },
    {
      "cell_type": "markdown",
      "metadata": {
        "id": "OeetbceF04df"
      },
      "source": [
        "Do the same with Dependents and Loan_Status"
      ]
    },
    {
      "cell_type": "code",
      "metadata": {
        "id": "bGyaa6z3K-mO",
        "colab": {
          "base_uri": "https://localhost:8080/",
          "height": 626
        },
        "outputId": "0d7cb28b-c8fb-4628-d1ca-984e6091ca15"
      },
      "source": [
        "\n",
        "crosstab_result = pd.crosstab(removeNA_df['Dependents'], removeNA_df['Loan_Status'],margins=True)\n",
        "print(crosstab_result)\n",
        "\n",
        "crosstab_result = crosstab_result.drop(index='All', columns='All')\n",
        "crosstab_result.plot(kind='bar')\n",
        "\n",
        "# Setting labels and title\n",
        "plt.title('Loan Acceptance/Rejection for Different Dependents')\n",
        "plt.xlabel('Dependents')\n",
        "plt.ylabel('Count')\n",
        "plt.legend(title='Loan Status', labels=['Rejected', 'Accepted'])\n",
        "\n",
        "\n"
      ],
      "execution_count": null,
      "outputs": [
        {
          "output_type": "stream",
          "name": "stdout",
          "text": [
            "Loan_Status    N    Y  All\n",
            "Dependents                \n",
            "0             87  187  274\n",
            "1             28   52   80\n",
            "2             20   65   85\n",
            "3+            13   28   41\n",
            "All          148  332  480\n"
          ]
        },
        {
          "output_type": "execute_result",
          "data": {
            "text/plain": [
              "<matplotlib.legend.Legend at 0x7c97ef6ea440>"
            ]
          },
          "metadata": {},
          "execution_count": 40
        },
        {
          "output_type": "display_data",
          "data": {
            "text/plain": [
              "<Figure size 640x480 with 1 Axes>"
            ],
            "image/png": "[encoded data removed]"
          },
          "metadata": {}
        }
      ]
    },
    {
      "cell_type": "markdown",
      "metadata": {
        "id": "o_7TyIEA1IrW"
      },
      "source": [
        "Do the same between Education and Loan_Status"
      ]
    },
    {
      "cell_type": "code",
      "metadata": {
        "id": "BKCYwmZSK-mQ",
        "colab": {
          "base_uri": "https://localhost:8080/",
          "height": 663
        },
        "outputId": "b1758089-1157-4d5e-908b-d2787fbd60e3"
      },
      "source": [
        "\n",
        "crosstab_result = pd.crosstab(removeNA_df['Education'], removeNA_df['Loan_Status'],margins=True)\n",
        "print(crosstab_result)\n",
        "\n",
        "\n",
        "crosstab_result = crosstab_result.drop(index='All', columns='All')\n",
        "crosstab_result.plot(kind='bar')\n",
        "\n",
        "# Setting labels and title\n",
        "plt.title('Loan Acceptance/Rejection for Different Education')\n",
        "plt.xlabel('Education')\n",
        "plt.ylabel('Count')\n",
        "plt.legend(title='Loan Status', labels=['Rejected', 'Accepted'])\n"
      ],
      "execution_count": null,
      "outputs": [
        {
          "output_type": "stream",
          "name": "stdout",
          "text": [
            "Loan_Status     N    Y  All\n",
            "Education                  \n",
            "Graduate      112  271  383\n",
            "Not Graduate   36   61   97\n",
            "All           148  332  480\n"
          ]
        },
        {
          "output_type": "execute_result",
          "data": {
            "text/plain": [
              "<matplotlib.legend.Legend at 0x7c97ef677340>"
            ]
          },
          "metadata": {},
          "execution_count": 39
        },
        {
          "output_type": "display_data",
          "data": {
            "text/plain": [
              "<Figure size 640x480 with 1 Axes>"
            ],
            "image/png": "[encoded data removed]"
          },
          "metadata": {}
        }
      ]
    },
    {
      "cell_type": "markdown",
      "metadata": {
        "id": "9sj0a-cvHnFB"
      },
      "source": [
        "**As we can conclude for the bars , Graduate people have more chance to be accepted**"
      ]
    },
    {
      "cell_type": "markdown",
      "metadata": {
        "id": "U8PV2Czu1Xh2"
      },
      "source": [
        "Do the same between Married and Loan_Status"
      ]
    },
    {
      "cell_type": "code",
      "metadata": {
        "id": "Oe0AnWl8K-mU",
        "colab": {
          "base_uri": "https://localhost:8080/",
          "height": 591
        },
        "outputId": "ba2b6afb-b4d4-4f39-a8ec-7b0ae8c8b11b"
      },
      "source": [
        "\n",
        "crosstab_result = pd.crosstab(removeNA_df['Married'], removeNA_df['Loan_Status'],margins=True)\n",
        "print(crosstab_result)\n",
        "\n",
        "crosstab_result = crosstab_result.drop(index='All', columns='All')\n",
        "crosstab_result.plot(kind='bar')\n",
        "\n",
        "# Setting labels and title\n",
        "plt.title('Loan Acceptance/Rejection for Different Married statuses')\n",
        "plt.xlabel('Married status')\n",
        "plt.ylabel('Count')\n",
        "plt.legend(title='Loan Status', labels=['Rejected', 'Accepted'])\n",
        "\n"
      ],
      "execution_count": null,
      "outputs": [
        {
          "output_type": "stream",
          "name": "stdout",
          "text": [
            "Loan_Status    N    Y  All\n",
            "Married                   \n",
            "No            64  105  169\n",
            "Yes           84  227  311\n",
            "All          148  332  480\n"
          ]
        },
        {
          "output_type": "execute_result",
          "data": {
            "text/plain": [
              "<matplotlib.legend.Legend at 0x7c97efe5ef20>"
            ]
          },
          "metadata": {},
          "execution_count": 46
        },
        {
          "output_type": "display_data",
          "data": {
            "text/plain": [
              "<Figure size 640x480 with 1 Axes>"
            ],
            "image/png": "[encoded data removed]"
          },
          "metadata": {}
        }
      ]
    },
    {
      "cell_type": "markdown",
      "metadata": {
        "id": "7j7NUwLfHos-"
      },
      "source": [
        "** Married people have higher change to get accepted**"
      ]
    },
    {
      "cell_type": "markdown",
      "metadata": {
        "id": "SnK8fMJs1m2O"
      },
      "source": [
        "Do the same between Property_Area and Loan_Status"
      ]
    },
    {
      "cell_type": "code",
      "metadata": {
        "id": "cYaHhLoeK-mW",
        "colab": {
          "base_uri": "https://localhost:8080/",
          "height": 662
        },
        "outputId": "cdd63e95-405c-4a28-bd74-cc78a629d608"
      },
      "source": [
        "\n",
        "crosstab_result = pd.crosstab(removeNA_df['Property_Area'], removeNA_df['Loan_Status'],margins=True)\n",
        "print(crosstab_result)\n",
        "\n",
        "crosstab_result = crosstab_result.drop(index='All', columns='All')\n",
        "crosstab_result.plot(kind='bar')\n",
        "\n",
        "# Setting labels and title\n",
        "plt.title('Loan Acceptance/Rejection for Different Property Areas')\n",
        "plt.xlabel('Property Area')\n",
        "plt.ylabel('Count')\n",
        "plt.legend(title='Loan Status', labels=['Rejected', 'Accepted'])\n",
        "\n"
      ],
      "execution_count": null,
      "outputs": [
        {
          "output_type": "stream",
          "name": "stdout",
          "text": [
            "Loan_Status      N    Y  All\n",
            "Property_Area               \n",
            "Rural           54   85  139\n",
            "Semiurban       42  149  191\n",
            "Urban           52   98  150\n",
            "All            148  332  480\n"
          ]
        },
        {
          "output_type": "execute_result",
          "data": {
            "text/plain": [
              "<matplotlib.legend.Legend at 0x7c97ef0ebbe0>"
            ]
          },
          "metadata": {},
          "execution_count": 47
        },
        {
          "output_type": "display_data",
          "data": {
            "text/plain": [
              "<Figure size 640x480 with 1 Axes>"
            ],
            "image/png": "[encoded data removed]"
          },
          "metadata": {}
        }
      ]
    },
    {
      "cell_type": "markdown",
      "metadata": {
        "id": "KFSGnV5KHqIO"
      },
      "source": [
        "**SemiUrban has a higher proba to get accepted**"
      ]
    },
    {
      "cell_type": "markdown",
      "metadata": {
        "id": "UNG_-eKf11xW"
      },
      "source": [
        "Do the same between Self_Employed and Loan_Status"
      ]
    },
    {
      "cell_type": "code",
      "metadata": {
        "id": "pXCGrtKEK-mY",
        "colab": {
          "base_uri": "https://localhost:8080/",
          "height": 591
        },
        "outputId": "a4cbe458-04a9-4f4e-8a50-4fc03d639608"
      },
      "source": [
        "\n",
        "crosstab_result = pd.crosstab(removeNA_df['Self_Employed'], removeNA_df['Loan_Status'],margins=True)\n",
        "print(crosstab_result)\n",
        "\n",
        "crosstab_result = crosstab_result.drop(index='All', columns='All')\n",
        "crosstab_result.plot(kind='bar')\n",
        "\n",
        "# Setting labels and title\n",
        "plt.title('Loan Acceptance/Rejection for Self Employed ')\n",
        "plt.xlabel('Self Employed')\n",
        "plt.ylabel('Count')\n",
        "plt.legend(title='Loan Status', labels=['Rejected', 'Accepted'])\n",
        "\n"
      ],
      "execution_count": null,
      "outputs": [
        {
          "output_type": "stream",
          "name": "stdout",
          "text": [
            "Loan_Status      N    Y  All\n",
            "Self_Employed               \n",
            "No             125  289  414\n",
            "Yes             23   43   66\n",
            "All            148  332  480\n"
          ]
        },
        {
          "output_type": "execute_result",
          "data": {
            "text/plain": [
              "<matplotlib.legend.Legend at 0x7c97eb6b11b0>"
            ]
          },
          "metadata": {},
          "execution_count": 58
        },
        {
          "output_type": "display_data",
          "data": {
            "text/plain": [
              "<Figure size 640x480 with 1 Axes>"
            ],
            "image/png": "[encoded data removed]"
          },
          "metadata": {}
        }
      ]
    },
    {
      "cell_type": "markdown",
      "metadata": {
        "id": "SpYJ0haWHrp3"
      },
      "source": [
        "**Non employed people have better chance to get accepted **"
      ]
    },
    {
      "cell_type": "markdown",
      "metadata": {
        "id": "vd5V99_B2YMu"
      },
      "source": [
        "Plot a Scatter Plot between Loan_Status and:\n",
        "* ApplicantIncome\n",
        "* CoapplicantIncome\n",
        "* LoanAmount\n",
        "* LoanAmount_Term"
      ]
    },
    {
      "cell_type": "code",
      "metadata": {
        "id": "QYx1bcpcK-mb",
        "colab": {
          "base_uri": "https://localhost:8080/",
          "height": 448
        },
        "outputId": "f869c299-bf67-4d07-9c49-a711f1bec57f"
      },
      "source": [
        "\n",
        "plt.scatter(removeNA_df['Loan_Status'],removeNA_df['ApplicantIncome'])"
      ],
      "execution_count": null,
      "outputs": [
        {
          "output_type": "execute_result",
          "data": {
            "text/plain": [
              "<matplotlib.collections.PathCollection at 0x7c97eef13760>"
            ]
          },
          "metadata": {},
          "execution_count": 50
        },
        {
          "output_type": "display_data",
          "data": {
            "text/plain": [
              "<Figure size 640x480 with 1 Axes>"
            ],
            "image/png": "[encoded data removed]"
          },
          "metadata": {}
        }
      ]
    },
    {
      "cell_type": "code",
      "metadata": {
        "id": "J-HJlqYBK-mc",
        "colab": {
          "base_uri": "https://localhost:8080/",
          "height": 448
        },
        "outputId": "248afe7f-0d49-41f2-b201-27233a0274d3"
      },
      "source": [
        "\n",
        "plt.scatter(removeNA_df['Loan_Status'],removeNA_df['CoapplicantIncome'])\n"
      ],
      "execution_count": null,
      "outputs": [
        {
          "output_type": "execute_result",
          "data": {
            "text/plain": [
              "<matplotlib.collections.PathCollection at 0x7c97eef725c0>"
            ]
          },
          "metadata": {},
          "execution_count": 51
        },
        {
          "output_type": "display_data",
          "data": {
            "text/plain": [
              "<Figure size 640x480 with 1 Axes>"
            ],
            "image/png": "[encoded data removed]"
          },
          "metadata": {}
        }
      ]
    },
    {
      "cell_type": "code",
      "metadata": {
        "id": "n6nlooYVK-mf",
        "colab": {
          "base_uri": "https://localhost:8080/",
          "height": 448
        },
        "outputId": "0ef1c251-f186-4d5c-8b44-bbe57fde060b"
      },
      "source": [
        "\n",
        "plt.scatter(removeNA_df['Loan_Status'],removeNA_df['LoanAmount'])\n"
      ],
      "execution_count": null,
      "outputs": [
        {
          "output_type": "execute_result",
          "data": {
            "text/plain": [
              "<matplotlib.collections.PathCollection at 0x7c97eedf7ac0>"
            ]
          },
          "metadata": {},
          "execution_count": 52
        },
        {
          "output_type": "display_data",
          "data": {
            "text/plain": [
              "<Figure size 640x480 with 1 Axes>"
            ],
            "image/png": "[encoded data removed]"
          },
          "metadata": {}
        }
      ]
    },
    {
      "cell_type": "code",
      "metadata": {
        "id": "PBpJ7-FZK-mh",
        "colab": {
          "base_uri": "https://localhost:8080/",
          "height": 452
        },
        "outputId": "c6ffbd4f-092c-445d-edb0-537ed1276fe6"
      },
      "source": [
        "\n",
        "plt.scatter(removeNA_df['Loan_Status'],removeNA_df['Loan_Amount_Term'])\n"
      ],
      "execution_count": null,
      "outputs": [
        {
          "output_type": "execute_result",
          "data": {
            "text/plain": [
              "<matplotlib.collections.PathCollection at 0x7c97eee58220>"
            ]
          },
          "metadata": {},
          "execution_count": 53
        },
        {
          "output_type": "display_data",
          "data": {
            "text/plain": [
              "<Figure size 640x480 with 1 Axes>"
            ],
            "image/png": "[encoded data removed]"
          },
          "metadata": {}
        }
      ]
    },
    {
      "cell_type": "markdown",
      "metadata": {
        "id": "kwa5jal-Htfu"
      },
      "source": [
        "** i think these 4 features dont give valuable info about loan status**"
      ]
    },
    {
      "cell_type": "markdown",
      "metadata": {
        "id": "bYCU_Weh3UJ1"
      },
      "source": [
        "Group your dataframe by Loan_Status on the median Value"
      ]
    },
    {
      "cell_type": "code",
      "metadata": {
        "id": "ye81y7MNK-mj",
        "colab": {
          "base_uri": "https://localhost:8080/"
        },
        "outputId": "7152e027-0808-48ab-a2e7-a8592ca00861"
      },
      "source": [
        "\n",
        "group=removeNA_df.groupby('Loan_Status').median()\n",
        "print(group)"
      ],
      "execution_count": null,
      "outputs": [
        {
          "output_type": "stream",
          "name": "stdout",
          "text": [
            "             ApplicantIncome  CoapplicantIncome  LoanAmount  Loan_Amount_Term  \\\n",
            "Loan_Status                                                                     \n",
            "N                     3871.0                0.0       128.0             360.0   \n",
            "Y                     3858.5             1211.5       128.0             360.0   \n",
            "\n",
            "             Credit_History  \n",
            "Loan_Status                  \n",
            "N                       1.0  \n",
            "Y                       1.0  \n"
          ]
        },
        {
          "output_type": "stream",
          "name": "stderr",
          "text": [
            "<ipython-input-56-ecd849862ba1>:2: FutureWarning: The default value of numeric_only in DataFrameGroupBy.median is deprecated. In a future version, numeric_only will default to False. Either specify numeric_only or select only columns which should be valid for the function.\n",
            "  group=removeNA_df.groupby('Loan_Status').median()\n"
          ]
        }
      ]
    },
    {
      "cell_type": "markdown",
      "metadata": {
        "id": "uuA79BBhHwVO"
      },
      "source": [
        "**i can deduce that only the CoApplicantIncome is valuable for the model**"
      ]
    },
    {
      "cell_type": "markdown",
      "metadata": {
        "id": "PuiYEDpYK-mm"
      },
      "source": [
        "# 4. Preprocessing\n",
        "\n",
        "Data should be preprocessed and cleaned to get rid of noisy data. Preprocessing includes:\n",
        "\n",
        "- remove unsued column(s)\n",
        "- remove grabage data\n",
        "- convert continous data into categorical\n",
        "- treat missing data\n",
        "- encode categorical data\n",
        "- normalization: standarize data ranges for all features"
      ]
    },
    {
      "cell_type": "markdown",
      "metadata": {
        "id": "JGumTAZLK-mm"
      },
      "source": [
        "## Remove unused columns"
      ]
    },
    {
      "cell_type": "markdown",
      "metadata": {
        "id": "XtnXZzTM39lp"
      },
      "source": [
        "Remove the features that do not contribute to the prediction of the loan status"
      ]
    },
    {
      "cell_type": "code",
      "metadata": {
        "id": "Aw3LlHX1K-mn"
      },
      "source": [
        "\n",
        "columns_to_remove = ['ApplicantIncome', 'LoanAmount', 'Loan_Amount_Term']\n",
        "\n",
        "# Drop the specified columns\n",
        "df.drop(columns=columns_to_remove, axis=1, inplace=True)"
      ],
      "execution_count": null,
      "outputs": []
    },
    {
      "cell_type": "markdown",
      "metadata": {
        "id": "vgIxDdBrK-mp"
      },
      "source": [
        "## Remove grabage data"
      ]
    },
    {
      "cell_type": "markdown",
      "metadata": {
        "id": "BiOIFhTZ4OB9"
      },
      "source": [
        "If we go back to one of the EDA steps where we saw the unique values of Dependents, we can see that we have '3+' as a value. In order to make the algorithm learn from such information, we have to replace this with a number. We will replace it by 3."
      ]
    },
    {
      "cell_type": "code",
      "metadata": {
        "id": "x55J60oFK-mq",
        "colab": {
          "base_uri": "https://localhost:8080/"
        },
        "outputId": "d99e3b3a-c19b-41e7-d65c-96da686c7013"
      },
      "source": [
        "\n",
        "df['Dependents']=df['Dependents'].replace('3+','3')\n",
        "print(df['Dependents'].unique())\n"
      ],
      "execution_count": null,
      "outputs": [
        {
          "output_type": "stream",
          "name": "stdout",
          "text": [
            "['0' '1' '2' '3' nan]\n"
          ]
        }
      ]
    },
    {
      "cell_type": "markdown",
      "metadata": {
        "id": "oBpOQ6MVK-mr"
      },
      "source": [
        "##Convert continuous data into categorical"
      ]
    },
    {
      "cell_type": "markdown",
      "metadata": {
        "id": "Su3zYNN14rce"
      },
      "source": [
        "Search for the feature that is contionuous but should be categorical and convert it"
      ]
    },
    {
      "cell_type": "code",
      "metadata": {
        "id": "UATLaXcwK-ms"
      },
      "source": [
        "\n",
        "for col in df.describe(include='O').columns:\n",
        "  df[col]=df[col].astype('category')"
      ],
      "execution_count": null,
      "outputs": []
    },
    {
      "cell_type": "markdown",
      "metadata": {
        "id": "RpDPJgQzK-mu"
      },
      "source": [
        "## Treat missing data\n",
        "- fill missing categorical data & discrete data with mode\n",
        "- fill missing continuous data with mean\n"
      ]
    },
    {
      "cell_type": "code",
      "metadata": {
        "id": "1ifJSObwK-mv",
        "colab": {
          "base_uri": "https://localhost:8080/"
        },
        "outputId": "ba350ce2-a78e-411f-f52b-cd4df96bf20d"
      },
      "source": [
        "\n",
        "categorical_columns = ['Gender', 'Married', 'Dependents', 'Education', 'Self_Employed', 'Property_Area', 'Loan_Status']\n",
        "for column in categorical_columns:\n",
        "    df[column].fillna(df[column].mode()[0], inplace=True)\n",
        "\n",
        "# Fill missing continuous data with mean\n",
        "continuous_columns = ['CoapplicantIncome', 'Credit_History']\n",
        "for column in continuous_columns:\n",
        "    df[column].fillna(df[column].mean(), inplace=True)\n",
        "df.info()\n"
      ],
      "execution_count": null,
      "outputs": [
        {
          "output_type": "stream",
          "name": "stdout",
          "text": [
            "<class 'pandas.core.frame.DataFrame'>\n",
            "RangeIndex: 614 entries, 0 to 613\n",
            "Data columns (total 9 columns):\n",
            " #   Column             Non-Null Count  Dtype   \n",
            "---  ------             --------------  -----   \n",
            " 0   Gender             614 non-null    category\n",
            " 1   Married            614 non-null    category\n",
            " 2   Dependents         614 non-null    category\n",
            " 3   Education          614 non-null    category\n",
            " 4   Self_Employed      614 non-null    category\n",
            " 5   CoapplicantIncome  614 non-null    float64 \n",
            " 6   Credit_History     614 non-null    float64 \n",
            " 7   Property_Area      614 non-null    category\n",
            " 8   Loan_Status        614 non-null    category\n",
            "dtypes: category(7), float64(2)\n",
            "memory usage: 14.8 KB\n"
          ]
        }
      ]
    },
    {
      "cell_type": "markdown",
      "metadata": {
        "id": "x90s4TXqK-mx"
      },
      "source": [
        "## Check if any null value exist"
      ]
    },
    {
      "cell_type": "code",
      "metadata": {
        "id": "lJi4rqkcK-mx",
        "colab": {
          "base_uri": "https://localhost:8080/"
        },
        "outputId": "2da86b4e-76ea-4e77-df9c-f6a710147bff"
      },
      "source": [
        "\n",
        "print(df.isnull().sum())"
      ],
      "execution_count": null,
      "outputs": [
        {
          "output_type": "stream",
          "name": "stdout",
          "text": [
            "Gender               0\n",
            "Married              0\n",
            "Dependents           0\n",
            "Education            0\n",
            "Self_Employed        0\n",
            "CoapplicantIncome    0\n",
            "Credit_History       0\n",
            "Property_Area        0\n",
            "Loan_Status          0\n",
            "dtype: int64\n"
          ]
        }
      ]
    },
    {
      "cell_type": "markdown",
      "metadata": {
        "id": "p-aMmUFxK-m0"
      },
      "source": [
        "## Encode categorical data"
      ]
    },
    {
      "cell_type": "markdown",
      "metadata": {
        "id": "sdFVf2_y5ztH"
      },
      "source": [
        "Go over our categorical features and encode them (change their values to be numerical to be able to feed them to an algorithm and get a model in the end)"
      ]
    },
    {
      "cell_type": "code",
      "metadata": {
        "id": "glKxNWrh5_9z",
        "colab": {
          "base_uri": "https://localhost:8080/",
          "height": 676
        },
        "outputId": "3f3daf4b-168e-4ba3-aa21-c84a881fdf11"
      },
      "source": [
        "\n",
        "#encode gender\n",
        "gender = {'Male':0, 'Female':1}\n",
        "#df['Gender'] = df['Gender'].apply(lambda x: gender[x])\n",
        "#encode Education\n",
        "educationlvl={'Graduate':1,'Not Graduate':0}\n",
        "#df['Education']=df['Education'].apply(lambda x:educationlvl[x])\n",
        "#self employed\n",
        "YesNo={'Yes':1,'No':0}\n",
        "#df['Self_Employed']=df['Self_Employed'].apply(lambda x:YesNo[x])\n",
        "#property area\n",
        "prop_area={'Urban':1,'Semiurban':2,'Rural':3}\n",
        "#df['Property_Area']=df['Property_Area'].apply(lambda x:prop_area[x])\n",
        "#loan_status\n",
        "loan_sts={'Y':1,'N':0}\n",
        "#df['Loan_Status']=df['Loan_Status'].apply(lambda x:loan_sts[x])\n",
        "#df['Married']=df['Married'].apply(lambda x :YesNo[x])\n",
        "# print head to verify\n",
        "df.head(20)\n"
      ],
      "execution_count": null,
      "outputs": [
        {
          "output_type": "execute_result",
          "data": {
            "text/plain": [
              "   Gender Married Dependents Education Self_Employed  CoapplicantIncome  \\\n",
              "0       0       0          0         1             0                0.0   \n",
              "1       0       1          1         1             0             1508.0   \n",
              "2       0       1          0         1             1                0.0   \n",
              "3       0       1          0         0             0             2358.0   \n",
              "4       0       0          0         1             0                0.0   \n",
              "5       0       1          2         1             1             4196.0   \n",
              "6       0       1          0         0             0             1516.0   \n",
              "7       0       1          3         1             0             2504.0   \n",
              "8       0       1          2         1             0             1526.0   \n",
              "9       0       1          1         1             0            10968.0   \n",
              "10      0       1          2         1             0              700.0   \n",
              "11      0       1          2         1             0             1840.0   \n",
              "12      0       1          2         1             0             8106.0   \n",
              "13      0       0          0         1             0             2840.0   \n",
              "14      0       1          2         1             0             1086.0   \n",
              "15      0       0          0         1             0                0.0   \n",
              "16      0       0          1         0             0                0.0   \n",
              "17      1       0          0         1             0                0.0   \n",
              "18      0       1          0         0             0                0.0   \n",
              "19      0       1          0         1             0             3500.0   \n",
              "\n",
              "    Credit_History Property_Area Loan_Status  \n",
              "0         1.000000             1           1  \n",
              "1         1.000000             3           0  \n",
              "2         1.000000             1           1  \n",
              "3         1.000000             1           1  \n",
              "4         1.000000             1           1  \n",
              "5         1.000000             1           1  \n",
              "6         1.000000             1           1  \n",
              "7         0.000000             2           0  \n",
              "8         1.000000             1           1  \n",
              "9         1.000000             2           0  \n",
              "10        1.000000             1           1  \n",
              "11        1.000000             1           1  \n",
              "12        1.000000             1           1  \n",
              "13        1.000000             3           0  \n",
              "14        1.000000             1           1  \n",
              "15        1.000000             1           1  \n",
              "16        0.842199             1           1  \n",
              "17        0.000000             1           0  \n",
              "18        1.000000             3           0  \n",
              "19        1.000000             1           1  "
            ],
            "text/html": [
              "\n",
              "  <div id=\"df-92b4ef6d-cf4a-4a32-a092-e95ddc87707f\" class=\"colab-df-container\">\n",
              "    <div>\n",
              "<style scoped>\n",
              "    .dataframe tbody tr th:only-of-type {\n",
              "        vertical-align: middle;\n",
              "    }\n",
              "\n",
              "    .dataframe tbody tr th {\n",
              "        vertical-align: top;\n",
              "    }\n",
              "\n",
              "    .dataframe thead th {\n",
              "        text-align: right;\n",
              "    }\n",
              "</style>\n",
              "<table border=\"1\" class=\"dataframe\">\n",
              "  <thead>\n",
              "    <tr style=\"text-align: right;\">\n",
              "      <th></th>\n",
              "      <th>Gender</th>\n",
              "      <th>Married</th>\n",
              "      <th>Dependents</th>\n",
              "      <th>Education</th>\n",
              "      <th>Self_Employed</th>\n",
              "      <th>CoapplicantIncome</th>\n",
              "      <th>Credit_History</th>\n",
              "      <th>Property_Area</th>\n",
              "      <th>Loan_Status</th>\n",
              "    </tr>\n",
              "  </thead>\n",
              "  <tbody>\n",
              "    <tr>\n",
              "      <th>0</th>\n",
              "      <td>0</td>\n",
              "      <td>0</td>\n",
              "      <td>0</td>\n",
              "      <td>1</td>\n",
              "      <td>0</td>\n",
              "      <td>0.0</td>\n",
              "      <td>1.000000</td>\n",
              "      <td>1</td>\n",
              "      <td>1</td>\n",
              "    </tr>\n",
              "    <tr>\n",
              "      <th>1</th>\n",
              "      <td>0</td>\n",
              "      <td>1</td>\n",
              "      <td>1</td>\n",
              "      <td>1</td>\n",
              "      <td>0</td>\n",
              "      <td>1508.0</td>\n",
              "      <td>1.000000</td>\n",
              "      <td>3</td>\n",
              "      <td>0</td>\n",
              "    </tr>\n",
              "    <tr>\n",
              "      <th>2</th>\n",
              "      <td>0</td>\n",
              "      <td>1</td>\n",
              "      <td>0</td>\n",
              "      <td>1</td>\n",
              "      <td>1</td>\n",
              "      <td>0.0</td>\n",
              "      <td>1.000000</td>\n",
              "      <td>1</td>\n",
              "      <td>1</td>\n",
              "    </tr>\n",
              "    <tr>\n",
              "      <th>3</th>\n",
              "      <td>0</td>\n",
              "      <td>1</td>\n",
              "      <td>0</td>\n",
              "      <td>0</td>\n",
              "      <td>0</td>\n",
              "      <td>2358.0</td>\n",
              "      <td>1.000000</td>\n",
              "      <td>1</td>\n",
              "      <td>1</td>\n",
              "    </tr>\n",
              "    <tr>\n",
              "      <th>4</th>\n",
              "      <td>0</td>\n",
              "      <td>0</td>\n",
              "      <td>0</td>\n",
              "      <td>1</td>\n",
              "      <td>0</td>\n",
              "      <td>0.0</td>\n",
              "      <td>1.000000</td>\n",
              "      <td>1</td>\n",
              "      <td>1</td>\n",
              "    </tr>\n",
              "    <tr>\n",
              "      <th>5</th>\n",
              "      <td>0</td>\n",
              "      <td>1</td>\n",
              "      <td>2</td>\n",
              "      <td>1</td>\n",
              "      <td>1</td>\n",
              "      <td>4196.0</td>\n",
              "      <td>1.000000</td>\n",
              "      <td>1</td>\n",
              "      <td>1</td>\n",
              "    </tr>\n",
              "    <tr>\n",
              "      <th>6</th>\n",
              "      <td>0</td>\n",
              "      <td>1</td>\n",
              "      <td>0</td>\n",
              "      <td>0</td>\n",
              "      <td>0</td>\n",
              "      <td>1516.0</td>\n",
              "      <td>1.000000</td>\n",
              "      <td>1</td>\n",
              "      <td>1</td>\n",
              "    </tr>\n",
              "    <tr>\n",
              "      <th>7</th>\n",
              "      <td>0</td>\n",
              "      <td>1</td>\n",
              "      <td>3</td>\n",
              "      <td>1</td>\n",
              "      <td>0</td>\n",
              "      <td>2504.0</td>\n",
              "      <td>0.000000</td>\n",
              "      <td>2</td>\n",
              "      <td>0</td>\n",
              "    </tr>\n",
              "    <tr>\n",
              "      <th>8</th>\n",
              "      <td>0</td>\n",
              "      <td>1</td>\n",
              "      <td>2</td>\n",
              "      <td>1</td>\n",
              "      <td>0</td>\n",
              "      <td>1526.0</td>\n",
              "      <td>1.000000</td>\n",
              "      <td>1</td>\n",
              "      <td>1</td>\n",
              "    </tr>\n",
              "    <tr>\n",
              "      <th>9</th>\n",
              "      <td>0</td>\n",
              "      <td>1</td>\n",
              "      <td>1</td>\n",
              "      <td>1</td>\n",
              "      <td>0</td>\n",
              "      <td>10968.0</td>\n",
              "      <td>1.000000</td>\n",
              "      <td>2</td>\n",
              "      <td>0</td>\n",
              "    </tr>\n",
              "    <tr>\n",
              "      <th>10</th>\n",
              "      <td>0</td>\n",
              "      <td>1</td>\n",
              "      <td>2</td>\n",
              "      <td>1</td>\n",
              "      <td>0</td>\n",
              "      <td>700.0</td>\n",
              "      <td>1.000000</td>\n",
              "      <td>1</td>\n",
              "      <td>1</td>\n",
              "    </tr>\n",
              "    <tr>\n",
              "      <th>11</th>\n",
              "      <td>0</td>\n",
              "      <td>1</td>\n",
              "      <td>2</td>\n",
              "      <td>1</td>\n",
              "      <td>0</td>\n",
              "      <td>1840.0</td>\n",
              "      <td>1.000000</td>\n",
              "      <td>1</td>\n",
              "      <td>1</td>\n",
              "    </tr>\n",
              "    <tr>\n",
              "      <th>12</th>\n",
              "      <td>0</td>\n",
              "      <td>1</td>\n",
              "      <td>2</td>\n",
              "      <td>1</td>\n",
              "      <td>0</td>\n",
              "      <td>8106.0</td>\n",
              "      <td>1.000000</td>\n",
              "      <td>1</td>\n",
              "      <td>1</td>\n",
              "    </tr>\n",
              "    <tr>\n",
              "      <th>13</th>\n",
              "      <td>0</td>\n",
              "      <td>0</td>\n",
              "      <td>0</td>\n",
              "      <td>1</td>\n",
              "      <td>0</td>\n",
              "      <td>2840.0</td>\n",
              "      <td>1.000000</td>\n",
              "      <td>3</td>\n",
              "      <td>0</td>\n",
              "    </tr>\n",
              "    <tr>\n",
              "      <th>14</th>\n",
              "      <td>0</td>\n",
              "      <td>1</td>\n",
              "      <td>2</td>\n",
              "      <td>1</td>\n",
              "      <td>0</td>\n",
              "      <td>1086.0</td>\n",
              "      <td>1.000000</td>\n",
              "      <td>1</td>\n",
              "      <td>1</td>\n",
              "    </tr>\n",
              "    <tr>\n",
              "      <th>15</th>\n",
              "      <td>0</td>\n",
              "      <td>0</td>\n",
              "      <td>0</td>\n",
              "      <td>1</td>\n",
              "      <td>0</td>\n",
              "      <td>0.0</td>\n",
              "      <td>1.000000</td>\n",
              "      <td>1</td>\n",
              "      <td>1</td>\n",
              "    </tr>\n",
              "    <tr>\n",
              "      <th>16</th>\n",
              "      <td>0</td>\n",
              "      <td>0</td>\n",
              "      <td>1</td>\n",
              "      <td>0</td>\n",
              "      <td>0</td>\n",
              "      <td>0.0</td>\n",
              "      <td>0.842199</td>\n",
              "      <td>1</td>\n",
              "      <td>1</td>\n",
              "    </tr>\n",
              "    <tr>\n",
              "      <th>17</th>\n",
              "      <td>1</td>\n",
              "      <td>0</td>\n",
              "      <td>0</td>\n",
              "      <td>1</td>\n",
              "      <td>0</td>\n",
              "      <td>0.0</td>\n",
              "      <td>0.000000</td>\n",
              "      <td>1</td>\n",
              "      <td>0</td>\n",
              "    </tr>\n",
              "    <tr>\n",
              "      <th>18</th>\n",
              "      <td>0</td>\n",
              "      <td>1</td>\n",
              "      <td>0</td>\n",
              "      <td>0</td>\n",
              "      <td>0</td>\n",
              "      <td>0.0</td>\n",
              "      <td>1.000000</td>\n",
              "      <td>3</td>\n",
              "      <td>0</td>\n",
              "    </tr>\n",
              "    <tr>\n",
              "      <th>19</th>\n",
              "      <td>0</td>\n",
              "      <td>1</td>\n",
              "      <td>0</td>\n",
              "      <td>1</td>\n",
              "      <td>0</td>\n",
              "      <td>3500.0</td>\n",
              "      <td>1.000000</td>\n",
              "      <td>1</td>\n",
              "      <td>1</td>\n",
              "    </tr>\n",
              "  </tbody>\n",
              "</table>\n",
              "</div>\n",
              "    <div class=\"colab-df-buttons\">\n",
              "\n",
              "  <div class=\"colab-df-container\">\n",
              "    <button class=\"colab-df-convert\" onclick=\"convertToInteractive('df-92b4ef6d-cf4a-4a32-a092-e95ddc87707f')\"\n",
              "            title=\"Convert this dataframe to an interactive table.\"\n",
              "            style=\"display:none;\">\n",
              "\n",
              "  <svg xmlns=\"http://www.w3.org/2000/svg\" height=\"24px\" viewBox=\"0 -960 960 960\">\n",
              "    <path d=\"M120-120v-720h720v720H120Zm60-500h600v-160H180v160Zm220 220h160v-160H400v160Zm0 220h160v-160H400v160ZM180-400h160v-160H180v160Zm440 0h160v-160H620v160ZM180-180h160v-160H180v160Zm440 0h160v-160H620v160Z\"/>\n",
              "  </svg>\n",
              "    </button>\n",
              "\n",
              "  <style>\n",
              "    .colab-df-container {\n",
              "      display:flex;\n",
              "      gap: 12px;\n",
              "    }\n",
              "\n",
              "    .colab-df-convert {\n",
              "      background-color: #E8F0FE;\n",
              "      border: none;\n",
              "      border-radius: 50%;\n",
              "      cursor: pointer;\n",
              "      display: none;\n",
              "      fill: #1967D2;\n",
              "      height: 32px;\n",
              "      padding: 0 0 0 0;\n",
              "      width: 32px;\n",
              "    }\n",
              "\n",
              "    .colab-df-convert:hover {\n",
              "      background-color: #E2EBFA;\n",
              "      box-shadow: 0px 1px 2px rgba(60, 64, 67, 0.3), 0px 1px 3px 1px rgba(60, 64, 67, 0.15);\n",
              "      fill: #174EA6;\n",
              "    }\n",
              "\n",
              "    .colab-df-buttons div {\n",
              "      margin-bottom: 4px;\n",
              "    }\n",
              "\n",
              "    [theme=dark] .colab-df-convert {\n",
              "      background-color: #3B4455;\n",
              "      fill: #D2E3FC;\n",
              "    }\n",
              "\n",
              "    [theme=dark] .colab-df-convert:hover {\n",
              "      background-color: #434B5C;\n",
              "      box-shadow: 0px 1px 3px 1px rgba(0, 0, 0, 0.15);\n",
              "      filter: drop-shadow(0px 1px 2px rgba(0, 0, 0, 0.3));\n",
              "      fill: #FFFFFF;\n",
              "    }\n",
              "  </style>\n",
              "\n",
              "    <script>\n",
              "      const buttonEl =\n",
              "        document.querySelector('#df-92b4ef6d-cf4a-4a32-a092-e95ddc87707f button.colab-df-convert');\n",
              "      buttonEl.style.display =\n",
              "        google.colab.kernel.accessAllowed ? 'block' : 'none';\n",
              "\n",
              "      async function convertToInteractive(key) {\n",
              "        const element = document.querySelector('#df-92b4ef6d-cf4a-4a32-a092-e95ddc87707f');\n",
              "        const dataTable =\n",
              "          await google.colab.kernel.invokeFunction('convertToInteractive',\n",
              "                                                    [key], {});\n",
              "        if (!dataTable) return;\n",
              "\n",
              "        const docLinkHtml = 'Like what you see? Visit the ' +\n",
              "          '<a target=\"_blank\" href=https://colab.research.google.com/notebooks/data_table.ipynb>data table notebook</a>'\n",
              "          + ' to learn more about interactive tables.';\n",
              "        element.innerHTML = '';\n",
              "        dataTable['output_type'] = 'display_data';\n",
              "        await google.colab.output.renderOutput(dataTable, element);\n",
              "        const docLink = document.createElement('div');\n",
              "        docLink.innerHTML = docLinkHtml;\n",
              "        element.appendChild(docLink);\n",
              "      }\n",
              "    </script>\n",
              "  </div>\n",
              "\n",
              "\n",
              "<div id=\"df-aa80c52d-448f-4998-8015-3f1422e64de8\">\n",
              "  <button class=\"colab-df-quickchart\" onclick=\"quickchart('df-aa80c52d-448f-4998-8015-3f1422e64de8')\"\n",
              "            title=\"Suggest charts.\"\n",
              "            style=\"display:none;\">\n",
              "\n",
              "<svg xmlns=\"http://www.w3.org/2000/svg\" height=\"24px\"viewBox=\"0 0 24 24\"\n",
              "     width=\"24px\">\n",
              "    <g>\n",
              "        <path d=\"M19 3H5c-1.1 0-2 .9-2 2v14c0 1.1.9 2 2 2h14c1.1 0 2-.9 2-2V5c0-1.1-.9-2-2-2zM9 17H7v-7h2v7zm4 0h-2V7h2v10zm4 0h-2v-4h2v4z\"/>\n",
              "    </g>\n",
              "</svg>\n",
              "  </button>\n",
              "\n",
              "<style>\n",
              "  .colab-df-quickchart {\n",
              "    background-color: #E8F0FE;\n",
              "    border: none;\n",
              "    border-radius: 50%;\n",
              "    cursor: pointer;\n",
              "    display: none;\n",
              "    fill: #1967D2;\n",
              "    height: 32px;\n",
              "    padding: 0 0 0 0;\n",
              "    width: 32px;\n",
              "  }\n",
              "\n",
              "  .colab-df-quickchart:hover {\n",
              "    background-color: #E2EBFA;\n",
              "    box-shadow: 0px 1px 2px rgba(60, 64, 67, 0.3), 0px 1px 3px 1px rgba(60, 64, 67, 0.15);\n",
              "    fill: #174EA6;\n",
              "  }\n",
              "\n",
              "  [theme=dark] .colab-df-quickchart {\n",
              "    background-color: #3B4455;\n",
              "    fill: #D2E3FC;\n",
              "  }\n",
              "\n",
              "  [theme=dark] .colab-df-quickchart:hover {\n",
              "    background-color: #434B5C;\n",
              "    box-shadow: 0px 1px 3px 1px rgba(0, 0, 0, 0.15);\n",
              "    filter: drop-shadow(0px 1px 2px rgba(0, 0, 0, 0.3));\n",
              "    fill: #FFFFFF;\n",
              "  }\n",
              "</style>\n",
              "\n",
              "  <script>\n",
              "    async function quickchart(key) {\n",
              "      const charts = await google.colab.kernel.invokeFunction(\n",
              "          'suggestCharts', [key], {});\n",
              "    }\n",
              "    (() => {\n",
              "      let quickchartButtonEl =\n",
              "        document.querySelector('#df-aa80c52d-448f-4998-8015-3f1422e64de8 button');\n",
              "      quickchartButtonEl.style.display =\n",
              "        google.colab.kernel.accessAllowed ? 'block' : 'none';\n",
              "    })();\n",
              "  </script>\n",
              "</div>\n",
              "    </div>\n",
              "  </div>\n"
            ]
          },
          "metadata": {},
          "execution_count": 217
        }
      ]
    },
    {
      "cell_type": "markdown",
      "metadata": {
        "id": "qjg5n5OfK-m8"
      },
      "source": [
        "## Normalization"
      ]
    },
    {
      "cell_type": "markdown",
      "metadata": {
        "id": "Xkzk1XJBCdUm"
      },
      "source": [
        "Normalize data ranges for all features\n",
        "First compute the maximum of each feature, and then divide each column by its maximum. After it, describe the data"
      ]
    },
    {
      "cell_type": "code",
      "metadata": {
        "id": "8FDSN28P6bas",
        "colab": {
          "base_uri": "https://localhost:8080/",
          "height": 300
        },
        "outputId": "574ebdcf-7a6d-45d4-c091-b1ccb88e174e"
      },
      "source": [
        "\n",
        "for column in df.columns:\n",
        "    df[column] = pd.to_numeric(df[column], downcast='integer', errors='coerce')\n",
        "\n",
        "data_max = df.max()\n",
        "df = df.divide(data_max)\n",
        "df.describe()"
      ],
      "execution_count": null,
      "outputs": [
        {
          "output_type": "execute_result",
          "data": {
            "text/plain": [
              "           Gender     Married  Dependents   Education  Self_Employed  \\\n",
              "count  614.000000  614.000000  614.000000  614.000000     614.000000   \n",
              "mean     0.182410    0.653094    0.248100    0.781759       0.133550   \n",
              "std      0.386497    0.476373    0.336541    0.413389       0.340446   \n",
              "min      0.000000    0.000000    0.000000    0.000000       0.000000   \n",
              "25%      0.000000    0.000000    0.000000    1.000000       0.000000   \n",
              "50%      0.000000    1.000000    0.000000    1.000000       0.000000   \n",
              "75%      0.000000    1.000000    0.333333    1.000000       0.000000   \n",
              "max      1.000000    1.000000    1.000000    1.000000       1.000000   \n",
              "\n",
              "       CoapplicantIncome  Credit_History  Property_Area  Loan_Status  \n",
              "count         614.000000      614.000000     614.000000   614.000000  \n",
              "mean            0.038910        0.842199       0.654180     0.687296  \n",
              "std             0.070229        0.349681       0.262494     0.463973  \n",
              "min             0.000000        0.000000       0.333333     0.000000  \n",
              "25%             0.000000        1.000000       0.333333     0.000000  \n",
              "50%             0.028524        1.000000       0.666667     1.000000  \n",
              "75%             0.055134        1.000000       1.000000     1.000000  \n",
              "max             1.000000        1.000000       1.000000     1.000000  "
            ],
            "text/html": [
              "\n",
              "  <div id=\"df-fd5d3ac9-15df-4cb3-9e44-d4fc43c2c7f6\" class=\"colab-df-container\">\n",
              "    <div>\n",
              "<style scoped>\n",
              "    .dataframe tbody tr th:only-of-type {\n",
              "        vertical-align: middle;\n",
              "    }\n",
              "\n",
              "    .dataframe tbody tr th {\n",
              "        vertical-align: top;\n",
              "    }\n",
              "\n",
              "    .dataframe thead th {\n",
              "        text-align: right;\n",
              "    }\n",
              "</style>\n",
              "<table border=\"1\" class=\"dataframe\">\n",
              "  <thead>\n",
              "    <tr style=\"text-align: right;\">\n",
              "      <th></th>\n",
              "      <th>Gender</th>\n",
              "      <th>Married</th>\n",
              "      <th>Dependents</th>\n",
              "      <th>Education</th>\n",
              "      <th>Self_Employed</th>\n",
              "      <th>CoapplicantIncome</th>\n",
              "      <th>Credit_History</th>\n",
              "      <th>Property_Area</th>\n",
              "      <th>Loan_Status</th>\n",
              "    </tr>\n",
              "  </thead>\n",
              "  <tbody>\n",
              "    <tr>\n",
              "      <th>count</th>\n",
              "      <td>614.000000</td>\n",
              "      <td>614.000000</td>\n",
              "      <td>614.000000</td>\n",
              "      <td>614.000000</td>\n",
              "      <td>614.000000</td>\n",
              "      <td>614.000000</td>\n",
              "      <td>614.000000</td>\n",
              "      <td>614.000000</td>\n",
              "      <td>614.000000</td>\n",
              "    </tr>\n",
              "    <tr>\n",
              "      <th>mean</th>\n",
              "      <td>0.182410</td>\n",
              "      <td>0.653094</td>\n",
              "      <td>0.248100</td>\n",
              "      <td>0.781759</td>\n",
              "      <td>0.133550</td>\n",
              "      <td>0.038910</td>\n",
              "      <td>0.842199</td>\n",
              "      <td>0.654180</td>\n",
              "      <td>0.687296</td>\n",
              "    </tr>\n",
              "    <tr>\n",
              "      <th>std</th>\n",
              "      <td>0.386497</td>\n",
              "      <td>0.476373</td>\n",
              "      <td>0.336541</td>\n",
              "      <td>0.413389</td>\n",
              "      <td>0.340446</td>\n",
              "      <td>0.070229</td>\n",
              "      <td>0.349681</td>\n",
              "      <td>0.262494</td>\n",
              "      <td>0.463973</td>\n",
              "    </tr>\n",
              "    <tr>\n",
              "      <th>min</th>\n",
              "      <td>0.000000</td>\n",
              "      <td>0.000000</td>\n",
              "      <td>0.000000</td>\n",
              "      <td>0.000000</td>\n",
              "      <td>0.000000</td>\n",
              "      <td>0.000000</td>\n",
              "      <td>0.000000</td>\n",
              "      <td>0.333333</td>\n",
              "      <td>0.000000</td>\n",
              "    </tr>\n",
              "    <tr>\n",
              "      <th>25%</th>\n",
              "      <td>0.000000</td>\n",
              "      <td>0.000000</td>\n",
              "      <td>0.000000</td>\n",
              "      <td>1.000000</td>\n",
              "      <td>0.000000</td>\n",
              "      <td>0.000000</td>\n",
              "      <td>1.000000</td>\n",
              "      <td>0.333333</td>\n",
              "      <td>0.000000</td>\n",
              "    </tr>\n",
              "    <tr>\n",
              "      <th>50%</th>\n",
              "      <td>0.000000</td>\n",
              "      <td>1.000000</td>\n",
              "      <td>0.000000</td>\n",
              "      <td>1.000000</td>\n",
              "      <td>0.000000</td>\n",
              "      <td>0.028524</td>\n",
              "      <td>1.000000</td>\n",
              "      <td>0.666667</td>\n",
              "      <td>1.000000</td>\n",
              "    </tr>\n",
              "    <tr>\n",
              "      <th>75%</th>\n",
              "      <td>0.000000</td>\n",
              "      <td>1.000000</td>\n",
              "      <td>0.333333</td>\n",
              "      <td>1.000000</td>\n",
              "      <td>0.000000</td>\n",
              "      <td>0.055134</td>\n",
              "      <td>1.000000</td>\n",
              "      <td>1.000000</td>\n",
              "      <td>1.000000</td>\n",
              "    </tr>\n",
              "    <tr>\n",
              "      <th>max</th>\n",
              "      <td>1.000000</td>\n",
              "      <td>1.000000</td>\n",
              "      <td>1.000000</td>\n",
              "      <td>1.000000</td>\n",
              "      <td>1.000000</td>\n",
              "      <td>1.000000</td>\n",
              "      <td>1.000000</td>\n",
              "      <td>1.000000</td>\n",
              "      <td>1.000000</td>\n",
              "    </tr>\n",
              "  </tbody>\n",
              "</table>\n",
              "</div>\n",
              "    <div class=\"colab-df-buttons\">\n",
              "\n",
              "  <div class=\"colab-df-container\">\n",
              "    <button class=\"colab-df-convert\" onclick=\"convertToInteractive('df-fd5d3ac9-15df-4cb3-9e44-d4fc43c2c7f6')\"\n",
              "            title=\"Convert this dataframe to an interactive table.\"\n",
              "            style=\"display:none;\">\n",
              "\n",
              "  <svg xmlns=\"http://www.w3.org/2000/svg\" height=\"24px\" viewBox=\"0 -960 960 960\">\n",
              "    <path d=\"M120-120v-720h720v720H120Zm60-500h600v-160H180v160Zm220 220h160v-160H400v160Zm0 220h160v-160H400v160ZM180-400h160v-160H180v160Zm440 0h160v-160H620v160ZM180-180h160v-160H180v160Zm440 0h160v-160H620v160Z\"/>\n",
              "  </svg>\n",
              "    </button>\n",
              "\n",
              "  <style>\n",
              "    .colab-df-container {\n",
              "      display:flex;\n",
              "      gap: 12px;\n",
              "    }\n",
              "\n",
              "    .colab-df-convert {\n",
              "      background-color: #E8F0FE;\n",
              "      border: none;\n",
              "      border-radius: 50%;\n",
              "      cursor: pointer;\n",
              "      display: none;\n",
              "      fill: #1967D2;\n",
              "      height: 32px;\n",
              "      padding: 0 0 0 0;\n",
              "      width: 32px;\n",
              "    }\n",
              "\n",
              "    .colab-df-convert:hover {\n",
              "      background-color: #E2EBFA;\n",
              "      box-shadow: 0px 1px 2px rgba(60, 64, 67, 0.3), 0px 1px 3px 1px rgba(60, 64, 67, 0.15);\n",
              "      fill: #174EA6;\n",
              "    }\n",
              "\n",
              "    .colab-df-buttons div {\n",
              "      margin-bottom: 4px;\n",
              "    }\n",
              "\n",
              "    [theme=dark] .colab-df-convert {\n",
              "      background-color: #3B4455;\n",
              "      fill: #D2E3FC;\n",
              "    }\n",
              "\n",
              "    [theme=dark] .colab-df-convert:hover {\n",
              "      background-color: #434B5C;\n",
              "      box-shadow: 0px 1px 3px 1px rgba(0, 0, 0, 0.15);\n",
              "      filter: drop-shadow(0px 1px 2px rgba(0, 0, 0, 0.3));\n",
              "      fill: #FFFFFF;\n",
              "    }\n",
              "  </style>\n",
              "\n",
              "    <script>\n",
              "      const buttonEl =\n",
              "        document.querySelector('#df-fd5d3ac9-15df-4cb3-9e44-d4fc43c2c7f6 button.colab-df-convert');\n",
              "      buttonEl.style.display =\n",
              "        google.colab.kernel.accessAllowed ? 'block' : 'none';\n",
              "\n",
              "      async function convertToInteractive(key) {\n",
              "        const element = document.querySelector('#df-fd5d3ac9-15df-4cb3-9e44-d4fc43c2c7f6');\n",
              "        const dataTable =\n",
              "          await google.colab.kernel.invokeFunction('convertToInteractive',\n",
              "                                                    [key], {});\n",
              "        if (!dataTable) return;\n",
              "\n",
              "        const docLinkHtml = 'Like what you see? Visit the ' +\n",
              "          '<a target=\"_blank\" href=https://colab.research.google.com/notebooks/data_table.ipynb>data table notebook</a>'\n",
              "          + ' to learn more about interactive tables.';\n",
              "        element.innerHTML = '';\n",
              "        dataTable['output_type'] = 'display_data';\n",
              "        await google.colab.output.renderOutput(dataTable, element);\n",
              "        const docLink = document.createElement('div');\n",
              "        docLink.innerHTML = docLinkHtml;\n",
              "        element.appendChild(docLink);\n",
              "      }\n",
              "    </script>\n",
              "  </div>\n",
              "\n",
              "\n",
              "<div id=\"df-bcfc349b-7df7-4635-a508-7c047de79dd0\">\n",
              "  <button class=\"colab-df-quickchart\" onclick=\"quickchart('df-bcfc349b-7df7-4635-a508-7c047de79dd0')\"\n",
              "            title=\"Suggest charts.\"\n",
              "            style=\"display:none;\">\n",
              "\n",
              "<svg xmlns=\"http://www.w3.org/2000/svg\" height=\"24px\"viewBox=\"0 0 24 24\"\n",
              "     width=\"24px\">\n",
              "    <g>\n",
              "        <path d=\"M19 3H5c-1.1 0-2 .9-2 2v14c0 1.1.9 2 2 2h14c1.1 0 2-.9 2-2V5c0-1.1-.9-2-2-2zM9 17H7v-7h2v7zm4 0h-2V7h2v10zm4 0h-2v-4h2v4z\"/>\n",
              "    </g>\n",
              "</svg>\n",
              "  </button>\n",
              "\n",
              "<style>\n",
              "  .colab-df-quickchart {\n",
              "    background-color: #E8F0FE;\n",
              "    border: none;\n",
              "    border-radius: 50%;\n",
              "    cursor: pointer;\n",
              "    display: none;\n",
              "    fill: #1967D2;\n",
              "    height: 32px;\n",
              "    padding: 0 0 0 0;\n",
              "    width: 32px;\n",
              "  }\n",
              "\n",
              "  .colab-df-quickchart:hover {\n",
              "    background-color: #E2EBFA;\n",
              "    box-shadow: 0px 1px 2px rgba(60, 64, 67, 0.3), 0px 1px 3px 1px rgba(60, 64, 67, 0.15);\n",
              "    fill: #174EA6;\n",
              "  }\n",
              "\n",
              "  [theme=dark] .colab-df-quickchart {\n",
              "    background-color: #3B4455;\n",
              "    fill: #D2E3FC;\n",
              "  }\n",
              "\n",
              "  [theme=dark] .colab-df-quickchart:hover {\n",
              "    background-color: #434B5C;\n",
              "    box-shadow: 0px 1px 3px 1px rgba(0, 0, 0, 0.15);\n",
              "    filter: drop-shadow(0px 1px 2px rgba(0, 0, 0, 0.3));\n",
              "    fill: #FFFFFF;\n",
              "  }\n",
              "</style>\n",
              "\n",
              "  <script>\n",
              "    async function quickchart(key) {\n",
              "      const charts = await google.colab.kernel.invokeFunction(\n",
              "          'suggestCharts', [key], {});\n",
              "    }\n",
              "    (() => {\n",
              "      let quickchartButtonEl =\n",
              "        document.querySelector('#df-bcfc349b-7df7-4635-a508-7c047de79dd0 button');\n",
              "      quickchartButtonEl.style.display =\n",
              "        google.colab.kernel.accessAllowed ? 'block' : 'none';\n",
              "    })();\n",
              "  </script>\n",
              "</div>\n",
              "    </div>\n",
              "  </div>\n"
            ]
          },
          "metadata": {},
          "execution_count": 220
        }
      ]
    },
    {
      "cell_type": "markdown",
      "metadata": {
        "id": "rW7e-IqSK-nA"
      },
      "source": [
        "# 6. Training & Validating"
      ]
    },
    {
      "cell_type": "markdown",
      "metadata": {
        "id": "a1R3upjnRVks"
      },
      "source": [
        "Create a variable x for the inputs (Fetaures), and a variable y for the output ('Loan_Status')\n",
        "Then, split the data between training (70%) and testing (30%)."
      ]
    },
    {
      "cell_type": "code",
      "metadata": {
        "id": "IfUvvKFTK-nA",
        "colab": {
          "base_uri": "https://localhost:8080/"
        },
        "outputId": "06d7be04-cc70-46e3-8f01-cfd9a511bffb"
      },
      "source": [
        "\n",
        "# store all columns except last one as inputs in X\n",
        "X = df.iloc[:,0:-1].values\n",
        "# store the last column as the output (label) in Y\n",
        "Y = df.iloc[:,-1].values\n",
        "\n",
        "# split dataset in a 80/20 split\n",
        "x_train, x_test, y_train, y_test = train_test_split(X,Y, test_size=0.3, random_state=25)\n",
        "\n",
        "print(x_train.shape, y_train.shape)\n",
        "print(x_test.shape, y_test.shape)"
      ],
      "execution_count": null,
      "outputs": [
        {
          "output_type": "stream",
          "name": "stdout",
          "text": [
            "(429, 8) (429,)\n",
            "(185, 8) (185,)\n"
          ]
        }
      ]
    },
    {
      "cell_type": "markdown",
      "metadata": {
        "id": "5qIDedqKTtfN"
      },
      "source": [
        "##Creating & Fitting the model"
      ]
    },
    {
      "cell_type": "markdown",
      "metadata": {
        "id": "hWDUL-_y69FP"
      },
      "source": [
        "Create a Logistic Regression Model, and fit it on the training data you have"
      ]
    },
    {
      "cell_type": "code",
      "metadata": {
        "id": "Ejo6DMwoSTbV",
        "colab": {
          "base_uri": "https://localhost:8080/"
        },
        "outputId": "2dcd0e82-7a8a-437f-8a98-65bb33a935c0"
      },
      "source": [
        "\n",
        "model = LogisticRegression()\n",
        "# train our model\n",
        "model.fit(x_train, y_train)\n",
        "print('Model trained!')"
      ],
      "execution_count": null,
      "outputs": [
        {
          "output_type": "stream",
          "name": "stdout",
          "text": [
            "Model trained!\n"
          ]
        }
      ]
    },
    {
      "cell_type": "markdown",
      "metadata": {
        "id": "VaHFGXcVUdBb"
      },
      "source": [
        "#7. Feature Importance"
      ]
    },
    {
      "cell_type": "markdown",
      "metadata": {
        "id": "rsx4xYBAUtv9"
      },
      "source": [
        "Evaluate the feature importance in your resulting model, and plot it"
      ]
    },
    {
      "cell_type": "code",
      "metadata": {
        "id": "N63Z5NZ3US-W",
        "colab": {
          "base_uri": "https://localhost:8080/",
          "height": 490
        },
        "outputId": "10ec6134-29cd-42e8-e7a8-b9e8a5685747"
      },
      "source": [
        "columns_names = df.columns[0:-1].values\n",
        "features_importance = model.coef_[0]  # Flatten the 2D array\n",
        "\n",
        "plt.barh(columns_names, features_importance)\n",
        "plt.title('Features Importance')\n",
        "plt.xlabel('Importance')\n",
        "plt.ylabel('Feature')\n",
        "\n"
      ],
      "execution_count": null,
      "outputs": [
        {
          "output_type": "execute_result",
          "data": {
            "text/plain": [
              "Text(0, 0.5, 'Feature')"
            ]
          },
          "metadata": {},
          "execution_count": 224
        },
        {
          "output_type": "display_data",
          "data": {
            "text/plain": [
              "<Figure size 640x480 with 1 Axes>"
            ],
            "image/png": "[encoded data removed]"
          },
          "metadata": {}
        }
      ]
    },
    {
      "cell_type": "markdown",
      "metadata": {
        "id": "PUdgyH7zU1v1"
      },
      "source": [
        "What's the most important feature?"
      ]
    },
    {
      "cell_type": "markdown",
      "metadata": {
        "id": "cKeVLm58H5gJ"
      },
      "source": [
        "**Credit History**"
      ]
    }
  ]
}